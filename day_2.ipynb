{
 "cells": [
  {
   "cell_type": "markdown",
   "id": "74432650-88f4-4670-94a2-03fdfbb2f05a",
   "metadata": {},
   "source": [
    "https://adventofcode.com/2023/day/2"
   ]
  },
  {
   "cell_type": "markdown",
   "id": "fdf97398-9d0b-4e5b-ac31-da80a797191c",
   "metadata": {},
   "source": [
    "# Part one"
   ]
  },
  {
   "cell_type": "code",
   "execution_count": 60,
   "id": "17d0f8a7-0ca4-49ae-83d7-41253f59c3fa",
   "metadata": {},
   "outputs": [],
   "source": [
    "import pandas as pd\n",
    "import numpy as np\n",
    "\n",
    "with open('data/day_2.txt') as txtfile:\n",
    "    input_day2 = txtfile.read().splitlines()"
   ]
  },
  {
   "cell_type": "code",
   "execution_count": 62,
   "id": "8e1272bc-9f2b-4951-8c9b-a506e7b80a30",
   "metadata": {},
   "outputs": [
    {
     "data": {
      "text/plain": [
       "[{'id': 'Game 1', 'green': '1', 'red': '6', 'blue': '4'},\n",
       " {'id': 'Game 1', 'blue': '2', 'green': '6', 'red': '7'},\n",
       " {'id': 'Game 1', 'red': '3', 'blue': '4', 'green': '6'},\n",
       " {'id': 'Game 1', 'green': '3'},\n",
       " {'id': 'Game 1', 'blue': '3', 'green': '2', 'red': '1'},\n",
       " {'id': 'Game 2', 'blue': '2', 'red': '4', 'green': '7'},\n",
       " {'id': 'Game 2', 'red': '17', 'blue': '3', 'green': '2'},\n",
       " {'id': 'Game 2', 'green': '3', 'red': '14', 'blue': '1'},\n",
       " {'id': 'Game 3', 'blue': '12', 'red': '3', 'green': '1'},\n",
       " {'id': 'Game 3', 'blue': '8', 'red': '9'}]"
      ]
     },
     "execution_count": 62,
     "metadata": {},
     "output_type": "execute_result"
    }
   ],
   "source": [
    "list_games = []\n",
    "\n",
    "for game in input_day2:\n",
    "    game_id, game_values = game.split(':')\n",
    "    for row in game_values.split(';'):\n",
    "        list_games.append({**{\"id\": game_id}, **dict([i.strip().split()[::-1] for i in row.split(',')])})\n",
    "        \n",
    "list_games[0:10]"
   ]
  },
  {
   "cell_type": "code",
   "execution_count": 58,
   "id": "26792ab1-4940-48e3-a7d4-bc56fdbd2f65",
   "metadata": {},
   "outputs": [
    {
     "data": {
      "text/html": [
       "<div>\n",
       "<style scoped>\n",
       "    .dataframe tbody tr th:only-of-type {\n",
       "        vertical-align: middle;\n",
       "    }\n",
       "\n",
       "    .dataframe tbody tr th {\n",
       "        vertical-align: top;\n",
       "    }\n",
       "\n",
       "    .dataframe thead th {\n",
       "        text-align: right;\n",
       "    }\n",
       "</style>\n",
       "<table border=\"1\" class=\"dataframe\">\n",
       "  <thead>\n",
       "    <tr style=\"text-align: right;\">\n",
       "      <th></th>\n",
       "      <th>red</th>\n",
       "      <th>green</th>\n",
       "      <th>blue</th>\n",
       "    </tr>\n",
       "    <tr>\n",
       "      <th>id</th>\n",
       "      <th></th>\n",
       "      <th></th>\n",
       "      <th></th>\n",
       "    </tr>\n",
       "  </thead>\n",
       "  <tbody>\n",
       "    <tr>\n",
       "      <th>1</th>\n",
       "      <td>7</td>\n",
       "      <td>6</td>\n",
       "      <td>4</td>\n",
       "    </tr>\n",
       "    <tr>\n",
       "      <th>2</th>\n",
       "      <td>17</td>\n",
       "      <td>7</td>\n",
       "      <td>3</td>\n",
       "    </tr>\n",
       "    <tr>\n",
       "      <th>3</th>\n",
       "      <td>9</td>\n",
       "      <td>1</td>\n",
       "      <td>12</td>\n",
       "    </tr>\n",
       "    <tr>\n",
       "      <th>4</th>\n",
       "      <td>2</td>\n",
       "      <td>10</td>\n",
       "      <td>11</td>\n",
       "    </tr>\n",
       "    <tr>\n",
       "      <th>5</th>\n",
       "      <td>9</td>\n",
       "      <td>13</td>\n",
       "      <td>12</td>\n",
       "    </tr>\n",
       "    <tr>\n",
       "      <th>...</th>\n",
       "      <td>...</td>\n",
       "      <td>...</td>\n",
       "      <td>...</td>\n",
       "    </tr>\n",
       "    <tr>\n",
       "      <th>96</th>\n",
       "      <td>12</td>\n",
       "      <td>1</td>\n",
       "      <td>1</td>\n",
       "    </tr>\n",
       "    <tr>\n",
       "      <th>97</th>\n",
       "      <td>1</td>\n",
       "      <td>8</td>\n",
       "      <td>9</td>\n",
       "    </tr>\n",
       "    <tr>\n",
       "      <th>98</th>\n",
       "      <td>15</td>\n",
       "      <td>16</td>\n",
       "      <td>11</td>\n",
       "    </tr>\n",
       "    <tr>\n",
       "      <th>99</th>\n",
       "      <td>9</td>\n",
       "      <td>10</td>\n",
       "      <td>8</td>\n",
       "    </tr>\n",
       "    <tr>\n",
       "      <th>100</th>\n",
       "      <td>16</td>\n",
       "      <td>9</td>\n",
       "      <td>14</td>\n",
       "    </tr>\n",
       "  </tbody>\n",
       "</table>\n",
       "<p>100 rows × 3 columns</p>\n",
       "</div>"
      ],
      "text/plain": [
       "     red  green  blue\n",
       "id                   \n",
       "1      7      6     4\n",
       "2     17      7     3\n",
       "3      9      1    12\n",
       "4      2     10    11\n",
       "5      9     13    12\n",
       "..   ...    ...   ...\n",
       "96    12      1     1\n",
       "97     1      8     9\n",
       "98    15     16    11\n",
       "99     9     10     8\n",
       "100   16      9    14\n",
       "\n",
       "[100 rows x 3 columns]"
      ]
     },
     "execution_count": 58,
     "metadata": {},
     "output_type": "execute_result"
    }
   ],
   "source": [
    "df_games_max = pd.DataFrame(list_games)\\\n",
    "    .assign(id=lambda x: x[\"id\"].str.strip(\"Game\").astype(int))\\\n",
    "    .set_index(\"id\")\\\n",
    "    [[\"red\", \"green\", \"blue\"]]\\\n",
    "    .fillna(0)\\\n",
    "    .astype(int)\\\n",
    "    .groupby(\"id\").max()\n",
    "df_games_max"
   ]
  },
  {
   "cell_type": "code",
   "execution_count": 63,
   "id": "7e85e181-d058-4382-bb55-4ad2e29c038a",
   "metadata": {},
   "outputs": [
    {
     "data": {
      "text/plain": [
       "id\n",
       "1       True\n",
       "2      False\n",
       "3       True\n",
       "4       True\n",
       "5       True\n",
       "       ...  \n",
       "96      True\n",
       "97      True\n",
       "98     False\n",
       "99      True\n",
       "100    False\n",
       "Length: 100, dtype: bool"
      ]
     },
     "execution_count": 63,
     "metadata": {},
     "output_type": "execute_result"
    }
   ],
   "source": [
    "df_games_possible = df_games_max.le(np.array([12, 13, 14])).all(axis=1)\n",
    "df_games_possible"
   ]
  },
  {
   "cell_type": "code",
   "execution_count": 64,
   "id": "5b286a20-6076-4b47-a6e1-6fca66511d99",
   "metadata": {},
   "outputs": [
    {
     "data": {
      "text/plain": [
       "2317"
      ]
     },
     "execution_count": 64,
     "metadata": {},
     "output_type": "execute_result"
    }
   ],
   "source": [
    "df_games_possible.loc[df_games_possible].index.values.sum()"
   ]
  },
  {
   "cell_type": "markdown",
   "id": "496a5071-9008-426c-8b54-06237315e465",
   "metadata": {},
   "source": [
    "# Part 2"
   ]
  },
  {
   "cell_type": "code",
   "execution_count": 71,
   "id": "599a7fcb-e08c-4a10-8a7d-abf63f6c2a9c",
   "metadata": {},
   "outputs": [
    {
     "data": {
      "text/plain": [
       "74804"
      ]
     },
     "execution_count": 71,
     "metadata": {},
     "output_type": "execute_result"
    }
   ],
   "source": [
    "df_games_max.prod(axis=1).sum()"
   ]
  },
  {
   "cell_type": "code",
   "execution_count": null,
   "id": "f970d605-25fd-49f0-9dfe-f25a4ccb348d",
   "metadata": {},
   "outputs": [],
   "source": []
  },
  {
   "cell_type": "code",
   "execution_count": null,
   "id": "ef4789cb-b16d-4f83-8bb3-3b81ada5d690",
   "metadata": {},
   "outputs": [],
   "source": []
  }
 ],
 "metadata": {
  "kernelspec": {
   "display_name": "Python 3 (ipykernel)",
   "language": "python",
   "name": "python3"
  },
  "language_info": {
   "codemirror_mode": {
    "name": "ipython",
    "version": 3
   },
   "file_extension": ".py",
   "mimetype": "text/x-python",
   "name": "python",
   "nbconvert_exporter": "python",
   "pygments_lexer": "ipython3",
   "version": "3.10.6"
  }
 },
 "nbformat": 4,
 "nbformat_minor": 5
}
