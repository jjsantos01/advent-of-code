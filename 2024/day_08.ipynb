{
 "cells": [
  {
   "cell_type": "markdown",
   "id": "c82ea494-d997-4758-a15d-87dd7ca037b7",
   "metadata": {},
   "source": [
    "https://adventofcode.com/2024/day/8"
   ]
  },
  {
   "cell_type": "code",
   "execution_count": 85,
   "id": "bffb975a-e8ff-44f9-b3db-1bde99736b12",
   "metadata": {},
   "outputs": [
    {
     "name": "stdout",
     "output_type": "stream",
     "text": [
      "..............U.............c.....3...............\n",
      ".....p.........F..................................\n",
      ".....m..7....................4x............3......\n",
      "..e.............F..........c...YH..3...........\n"
     ]
    }
   ],
   "source": [
    "from itertools import combinations\n",
    "import pandas as pd\n",
    "\n",
    "input_test = \"\"\"............\n",
    "........0...\n",
    ".....0......\n",
    ".......0....\n",
    "....0.......\n",
    "......A.....\n",
    "............\n",
    "............\n",
    "........A...\n",
    ".........A..\n",
    "............\n",
    "............\"\"\"\n",
    "\n",
    "with open('data/day_08.txt') as txtfile:\n",
    "    input_day = txtfile.read()\n",
    "    \n",
    "PROD = 1\n",
    "input_data = input_day if PROD else input_test\n",
    "print(input_data[0:200])"
   ]
  },
  {
   "cell_type": "code",
   "execution_count": 86,
   "id": "a22932c3-82e0-4625-b6c5-22057f4dbc1c",
   "metadata": {},
   "outputs": [
    {
     "data": {
      "text/html": [
       "<div>\n",
       "<style scoped>\n",
       "    .dataframe tbody tr th:only-of-type {\n",
       "        vertical-align: middle;\n",
       "    }\n",
       "\n",
       "    .dataframe tbody tr th {\n",
       "        vertical-align: top;\n",
       "    }\n",
       "\n",
       "    .dataframe thead th {\n",
       "        text-align: right;\n",
       "    }\n",
       "</style>\n",
       "<table border=\"1\" class=\"dataframe\">\n",
       "  <thead>\n",
       "    <tr style=\"text-align: right;\">\n",
       "      <th></th>\n",
       "      <th>0</th>\n",
       "      <th>1</th>\n",
       "      <th>2</th>\n",
       "      <th>3</th>\n",
       "      <th>4</th>\n",
       "      <th>5</th>\n",
       "      <th>6</th>\n",
       "      <th>7</th>\n",
       "      <th>8</th>\n",
       "      <th>9</th>\n",
       "      <th>...</th>\n",
       "      <th>40</th>\n",
       "      <th>41</th>\n",
       "      <th>42</th>\n",
       "      <th>43</th>\n",
       "      <th>44</th>\n",
       "      <th>45</th>\n",
       "      <th>46</th>\n",
       "      <th>47</th>\n",
       "      <th>48</th>\n",
       "      <th>49</th>\n",
       "    </tr>\n",
       "  </thead>\n",
       "  <tbody>\n",
       "    <tr>\n",
       "      <th>0</th>\n",
       "      <td>.</td>\n",
       "      <td>.</td>\n",
       "      <td>.</td>\n",
       "      <td>.</td>\n",
       "      <td>.</td>\n",
       "      <td>.</td>\n",
       "      <td>.</td>\n",
       "      <td>.</td>\n",
       "      <td>.</td>\n",
       "      <td>.</td>\n",
       "      <td>...</td>\n",
       "      <td>.</td>\n",
       "      <td>.</td>\n",
       "      <td>.</td>\n",
       "      <td>.</td>\n",
       "      <td>.</td>\n",
       "      <td>.</td>\n",
       "      <td>.</td>\n",
       "      <td>.</td>\n",
       "      <td>.</td>\n",
       "      <td>.</td>\n",
       "    </tr>\n",
       "    <tr>\n",
       "      <th>1</th>\n",
       "      <td>.</td>\n",
       "      <td>.</td>\n",
       "      <td>.</td>\n",
       "      <td>.</td>\n",
       "      <td>.</td>\n",
       "      <td>p</td>\n",
       "      <td>.</td>\n",
       "      <td>.</td>\n",
       "      <td>.</td>\n",
       "      <td>.</td>\n",
       "      <td>...</td>\n",
       "      <td>.</td>\n",
       "      <td>.</td>\n",
       "      <td>.</td>\n",
       "      <td>.</td>\n",
       "      <td>.</td>\n",
       "      <td>.</td>\n",
       "      <td>.</td>\n",
       "      <td>.</td>\n",
       "      <td>.</td>\n",
       "      <td>.</td>\n",
       "    </tr>\n",
       "    <tr>\n",
       "      <th>2</th>\n",
       "      <td>.</td>\n",
       "      <td>.</td>\n",
       "      <td>.</td>\n",
       "      <td>.</td>\n",
       "      <td>.</td>\n",
       "      <td>m</td>\n",
       "      <td>.</td>\n",
       "      <td>.</td>\n",
       "      <td>7</td>\n",
       "      <td>.</td>\n",
       "      <td>...</td>\n",
       "      <td>.</td>\n",
       "      <td>.</td>\n",
       "      <td>.</td>\n",
       "      <td>3</td>\n",
       "      <td>.</td>\n",
       "      <td>.</td>\n",
       "      <td>.</td>\n",
       "      <td>.</td>\n",
       "      <td>.</td>\n",
       "      <td>.</td>\n",
       "    </tr>\n",
       "    <tr>\n",
       "      <th>3</th>\n",
       "      <td>.</td>\n",
       "      <td>.</td>\n",
       "      <td>e</td>\n",
       "      <td>.</td>\n",
       "      <td>.</td>\n",
       "      <td>.</td>\n",
       "      <td>.</td>\n",
       "      <td>.</td>\n",
       "      <td>.</td>\n",
       "      <td>.</td>\n",
       "      <td>...</td>\n",
       "      <td>.</td>\n",
       "      <td>.</td>\n",
       "      <td>.</td>\n",
       "      <td>.</td>\n",
       "      <td>.</td>\n",
       "      <td>.</td>\n",
       "      <td>.</td>\n",
       "      <td>.</td>\n",
       "      <td>.</td>\n",
       "      <td>.</td>\n",
       "    </tr>\n",
       "    <tr>\n",
       "      <th>4</th>\n",
       "      <td>.</td>\n",
       "      <td>.</td>\n",
       "      <td>.</td>\n",
       "      <td>.</td>\n",
       "      <td>.</td>\n",
       "      <td>.</td>\n",
       "      <td>.</td>\n",
       "      <td>e</td>\n",
       "      <td>.</td>\n",
       "      <td>.</td>\n",
       "      <td>...</td>\n",
       "      <td>.</td>\n",
       "      <td>.</td>\n",
       "      <td>.</td>\n",
       "      <td>c</td>\n",
       "      <td>.</td>\n",
       "      <td>.</td>\n",
       "      <td>E</td>\n",
       "      <td>.</td>\n",
       "      <td>.</td>\n",
       "      <td>8</td>\n",
       "    </tr>\n",
       "  </tbody>\n",
       "</table>\n",
       "<p>5 rows × 50 columns</p>\n",
       "</div>"
      ],
      "text/plain": [
       "  0  1  2  3  4  5  6  7  8  9   ... 40 41 42 43 44 45 46 47 48 49\n",
       "0  .  .  .  .  .  .  .  .  .  .  ...  .  .  .  .  .  .  .  .  .  .\n",
       "1  .  .  .  .  .  p  .  .  .  .  ...  .  .  .  .  .  .  .  .  .  .\n",
       "2  .  .  .  .  .  m  .  .  7  .  ...  .  .  .  3  .  .  .  .  .  .\n",
       "3  .  .  e  .  .  .  .  .  .  .  ...  .  .  .  .  .  .  .  .  .  .\n",
       "4  .  .  .  .  .  .  .  e  .  .  ...  .  .  .  c  .  .  E  .  .  8\n",
       "\n",
       "[5 rows x 50 columns]"
      ]
     },
     "execution_count": 86,
     "metadata": {},
     "output_type": "execute_result"
    }
   ],
   "source": [
    "df = pd.DataFrame([list(line) for line in input_data.splitlines()])\n",
    "df.head()"
   ]
  },
  {
   "cell_type": "markdown",
   "id": "b64ab08c-541b-4cb4-89c0-4fffda5f7ac5",
   "metadata": {},
   "source": [
    "# PART 1"
   ]
  },
  {
   "cell_type": "code",
   "execution_count": 87,
   "id": "a37924a6-43da-45da-9d0d-31ad9b238807",
   "metadata": {},
   "outputs": [
    {
     "data": {
      "text/plain": [
       "271"
      ]
     },
     "execution_count": 87,
     "metadata": {},
     "output_type": "execute_result"
    }
   ],
   "source": [
    "stacked = df.stack().loc[lambda x: x!=\".\"].to_frame(\"freq\")\n",
    "stacked[\"pos\"] = stacked.index.tolist()\n",
    "freqs = stacked.groupby(\"freq\")[\"pos\"].apply(lambda x: x.tolist()).to_dict()\n",
    "antennas = []\n",
    "for freq, nodes in freqs.items():\n",
    "    pairs = list(combinations(nodes, 2))\n",
    "    for p1, p2 in pairs:\n",
    "        delta = (p1[0] - p2[0], p1[1] - p2[1])\n",
    "        antenna = p1[0] + delta[0], p1[1] + delta[1]\n",
    "        if (antenna[0] >= 0) and (antenna[0]<len(df)) and (antenna[1] >= 0) and (antenna[1]<len(df)) and (antenna not in antennas):\n",
    "            antennas.append(antenna)\n",
    "        antenna = p2[0] - delta[0], p2[1] - delta[1]\n",
    "        if (antenna[0] >= 0) and (antenna[0]<len(df)) and (antenna[1] >= 0) and (antenna[1]<len(df)) and (antenna not in antennas):\n",
    "            antennas.append(antenna)\n",
    "\n",
    "len(antennas)"
   ]
  },
  {
   "cell_type": "markdown",
   "id": "3a250619-c0d1-411f-ac7f-2f219ae79857",
   "metadata": {},
   "source": [
    "# PART 2"
   ]
  },
  {
   "cell_type": "code",
   "execution_count": 88,
   "id": "2b440b18-1ab5-47d9-b68b-b6952c36b1a2",
   "metadata": {},
   "outputs": [
    {
     "data": {
      "text/plain": [
       "994"
      ]
     },
     "execution_count": 88,
     "metadata": {},
     "output_type": "execute_result"
    }
   ],
   "source": [
    "stacked = df.stack().loc[lambda x: x!=\".\"].to_frame(\"freq\")\n",
    "stacked[\"pos\"] = stacked.index.tolist()\n",
    "freqs = stacked.groupby(\"freq\")[\"pos\"].apply(lambda x: x.tolist()).to_dict()\n",
    "antennas = []\n",
    "for freq, nodes in freqs.items():\n",
    "    pairs = list(combinations(nodes, 2))\n",
    "    for p1, p2 in pairs:\n",
    "        if p1 not in antennas:\n",
    "            antennas.append(p1)\n",
    "        if p2 not in antennas:\n",
    "            antennas.append(p2)\n",
    "        delta = (p1[0] - p2[0], p1[1] - p2[1])\n",
    "        antenna = p1[0] + delta[0], p1[1] + delta[1]\n",
    "        while (antenna[0] >= 0) and (antenna[0]<len(df)) and (antenna[1] >= 0) and (antenna[1]<len(df)):\n",
    "            if antenna not in antennas:\n",
    "                antennas.append(antenna)\n",
    "            p1 = antenna\n",
    "            antenna = p1[0] + delta[0], p1[1] + delta[1]\n",
    "\n",
    "        antenna = p2[0] - delta[0], p2[1] - delta[1]\n",
    "        while (antenna[0] >= 0) and (antenna[0]<len(df)) and (antenna[1] >= 0) and (antenna[1]<len(df)):\n",
    "            if antenna not in antennas:\n",
    "                antennas.append(antenna)\n",
    "            p2 = antenna\n",
    "            antenna = p2[0] - delta[0], p2[1] - delta[1]\n",
    "\n",
    "len(antennas)"
   ]
  },
  {
   "cell_type": "code",
   "execution_count": 71,
   "id": "6d49aa00-5dbf-48c6-a491-5cdd07e8b6be",
   "metadata": {},
   "outputs": [
    {
     "data": {
      "text/plain": [
       "7"
      ]
     },
     "execution_count": 71,
     "metadata": {},
     "output_type": "execute_result"
    }
   ],
   "source": []
  }
 ],
 "metadata": {
  "kernelspec": {
   "display_name": "Python [conda env:py311]",
   "language": "python",
   "name": "conda-env-py311-py"
  },
  "language_info": {
   "codemirror_mode": {
    "name": "ipython",
    "version": 3
   },
   "file_extension": ".py",
   "mimetype": "text/x-python",
   "name": "python",
   "nbconvert_exporter": "python",
   "pygments_lexer": "ipython3",
   "version": "3.11.9"
  }
 },
 "nbformat": 4,
 "nbformat_minor": 5
}
