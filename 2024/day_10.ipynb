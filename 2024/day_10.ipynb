{
 "cells": [
  {
   "cell_type": "markdown",
   "id": "36607821-c8a5-4b98-9b5d-3dfa99ad1040",
   "metadata": {},
   "source": [
    "https://adventofcode.com/2024/day/10"
   ]
  },
  {
   "cell_type": "code",
   "execution_count": 1,
   "id": "69e4fb6d-fec4-4e17-ac0d-a864d2b43b12",
   "metadata": {},
   "outputs": [
    {
     "name": "stdout",
     "output_type": "stream",
     "text": [
      "967801543219877892110120432456765487321234545\n",
      "854914678900166743026501501329870398100987656\n",
      "763023498101255654137432672014981287231892187\n",
      "012109567692341015048976789023569346542763096\n",
      "1012387478876543\n"
     ]
    }
   ],
   "source": [
    "input_test = \"\"\"89010123\n",
    "78121874\n",
    "87430965\n",
    "96549874\n",
    "45678903\n",
    "32019012\n",
    "01329801\n",
    "10456732\"\"\"\n",
    "\n",
    "with open('data/day_10.txt') as txtfile:\n",
    "    input_day = txtfile.read().strip()\n",
    "    \n",
    "PROD = 1\n",
    "input_data = input_day if PROD else input_test\n",
    "topomap = [[int(n) for n in list(line)] for line in input_data.splitlines()]\n",
    "print(input_data[0:200])"
   ]
  },
  {
   "cell_type": "markdown",
   "id": "41adad84-dbab-41c4-8080-bd4eb15eaa13",
   "metadata": {},
   "source": [
    "# PART 1"
   ]
  },
  {
   "cell_type": "code",
   "execution_count": 2,
   "id": "c48592ab-8145-432f-9c13-e46cf642c061",
   "metadata": {},
   "outputs": [
    {
     "name": "stdout",
     "output_type": "stream",
     "text": [
      "531\n"
     ]
    }
   ],
   "source": [
    "trailheads = [(r, c) for r in range(len(topomap)) for c in range(len(topomap[0])) if topomap[r][c]==0]\n",
    "nodes = {}\n",
    "def find_next_nodes(r_pos, c_pos):\n",
    "    nodes[(r_pos, c_pos)] = []\n",
    "    value_pos = topomap[r_pos][c_pos]\n",
    "    neighbors = [(r_pos, c_pos + 1), (r_pos, c_pos - 1), (r_pos + 1, c_pos), (r_pos - 1, c_pos)]\n",
    "    for neighbor_r, neighbor_c in neighbors:\n",
    "        if (neighbor_r >= 0) and (neighbor_r < len(topomap)) and (neighbor_c >= 0) and (neighbor_c < len(topomap)):\n",
    "            neighbor_value = topomap[neighbor_r][neighbor_c]\n",
    "            if (neighbor_value == value_pos + 1):\n",
    "                nodes[(r_pos, c_pos)].append((neighbor_r, neighbor_c))\n",
    "                if neighbor_value < 9:\n",
    "                    find_next_nodes(neighbor_r, neighbor_c)        \n",
    "\n",
    "def get_final_node(row, col, history=None):\n",
    "    if (row, col) in nodes:\n",
    "        if history is None:\n",
    "            history = [(row, col)]\n",
    "        for row_n, col_n in nodes[row, col]:\n",
    "            history.append((row_n, col_n))\n",
    "            history = get_final_node(row_n, col_n, history)\n",
    "            if history:\n",
    "                if topomap[history[-1][0]][history[-1][1]]==9:\n",
    "                    branches.append(history)\n",
    "                    history = []\n",
    "    return history\n",
    "\n",
    "score = 0\n",
    "for r_pos, c_pos in trailheads:\n",
    "    find_next_nodes(r_pos, c_pos)\n",
    "    branches = []\n",
    "    get_final_node(r_pos, c_pos)\n",
    "    score += len(set((b[-1] for b in branches)))\n",
    "\n",
    "print(score)"
   ]
  },
  {
   "cell_type": "markdown",
   "id": "3dfcc34a-ae67-4ea5-b103-54ca4fe2e08d",
   "metadata": {},
   "source": [
    "# PART 2"
   ]
  },
  {
   "cell_type": "code",
   "execution_count": 3,
   "id": "2759cc8e-d514-4978-aadc-0242cf8a413a",
   "metadata": {},
   "outputs": [
    {
     "name": "stdout",
     "output_type": "stream",
     "text": [
      "1210\n"
     ]
    }
   ],
   "source": [
    "score = 0\n",
    "for r_pos, c_pos in trailheads:\n",
    "    find_next_nodes(r_pos, c_pos)\n",
    "    branches = []\n",
    "    get_final_node(r_pos, c_pos)\n",
    "    score += len(branches)\n",
    "\n",
    "print(score)"
   ]
  }
 ],
 "metadata": {
  "kernelspec": {
   "display_name": "Python [conda env:py311]",
   "language": "python",
   "name": "conda-env-py311-py"
  },
  "language_info": {
   "codemirror_mode": {
    "name": "ipython",
    "version": 3
   },
   "file_extension": ".py",
   "mimetype": "text/x-python",
   "name": "python",
   "nbconvert_exporter": "python",
   "pygments_lexer": "ipython3",
   "version": "3.11.9"
  }
 },
 "nbformat": 4,
 "nbformat_minor": 5
}
