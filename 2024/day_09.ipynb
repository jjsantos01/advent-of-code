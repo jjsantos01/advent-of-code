{
 "cells": [
  {
   "cell_type": "markdown",
   "id": "ca9a9cb6-da5a-45a9-855f-2060a40440d6",
   "metadata": {},
   "source": [
    "https://adventofcode.com/2024/day/9"
   ]
  },
  {
   "cell_type": "code",
   "execution_count": 4,
   "id": "e51f9741-2454-406b-a2d6-27b44fd5799e",
   "metadata": {},
   "outputs": [
    {
     "name": "stdout",
     "output_type": "stream",
     "text": [
      "48757896414344677115447648368635323434452644601241443629368345621447262744533480676713292495821469329511361086763036359631808658688873663396501754835363753553296155848827597176968489386415738024577195\n"
     ]
    }
   ],
   "source": [
    "input_test = \"2333133121414131402\"\n",
    "\n",
    "with open('data/day_09.txt') as txtfile:\n",
    "    input_day = txtfile.read().strip()\n",
    "    \n",
    "PROD = 1\n",
    "input_data = input_day if PROD else input_test\n",
    "print(input_data[0:200])"
   ]
  },
  {
   "cell_type": "markdown",
   "id": "fbb86e11-39d0-44c7-b39d-7adad8cdeb27",
   "metadata": {},
   "source": [
    "# PART 1"
   ]
  },
  {
   "cell_type": "code",
   "execution_count": 2,
   "id": "f0475fe9-8f82-45c3-b0b4-84d9298f8c90",
   "metadata": {},
   "outputs": [
    {
     "data": {
      "text/plain": [
       "1928"
      ]
     },
     "execution_count": 2,
     "metadata": {},
     "output_type": "execute_result"
    }
   ],
   "source": [
    "files = input_data[::2]\n",
    "spaces = input_data[1::2]\n",
    "block = \"\"\n",
    "unicode_table = {}\n",
    "for index, f in enumerate(files):\n",
    "    char = chr(48 + index)\n",
    "    unicode_table[char] = index\n",
    "    block +=  char * int(f)\n",
    "    if index < len(spaces):\n",
    "        block += \".\" * int(spaces[index])\n",
    "\n",
    "if not PROD:\n",
    "    assert block == \"00...111...2...333.44.5555.6666.777.888899\"\n",
    "\n",
    "block_list = list(block)\n",
    "n_spaces = block.count(\".\")\n",
    "for index, digit in enumerate(block[::-1], 1):\n",
    "    if digit != \".\":\n",
    "        block_list[block_list.index(\".\")] = digit\n",
    "        block_list[-index] = \".\"\n",
    "        if block_list[-n_spaces:].count(\".\") == n_spaces:\n",
    "            break\n",
    "\n",
    "if not PROD:\n",
    "    \"\".join(block_list) == \"0099811188827773336446555566..............\"\n",
    "\n",
    "sum(i * unicode_table[n] for i, n in enumerate(block_list[0:-n_spaces]))"
   ]
  },
  {
   "cell_type": "markdown",
   "id": "58cc84c7-2496-4844-9b44-654619ce4f8f",
   "metadata": {},
   "source": [
    "# PART 2"
   ]
  },
  {
   "cell_type": "code",
   "execution_count": 5,
   "id": "bcd9dff5-5d2b-4550-bd27-05a354a5965a",
   "metadata": {},
   "outputs": [
    {
     "data": {
      "text/plain": [
       "6467290479134"
      ]
     },
     "execution_count": 5,
     "metadata": {},
     "output_type": "execute_result"
    }
   ],
   "source": [
    "import re\n",
    "\n",
    "files = input_data[::2]\n",
    "spaces = input_data[1::2]\n",
    "block = \"\"\n",
    "unicode_table = {}\n",
    "for index, f in enumerate(files):\n",
    "    char = chr(48 + index)\n",
    "    unicode_table[char] = index\n",
    "    block +=  char * int(f)\n",
    "    if index < len(spaces):\n",
    "        block += \".\" * int(spaces[index])\n",
    "\n",
    "block_list = list(block)\n",
    "\n",
    "if not PROD:\n",
    "    assert block == \"00...111...2...333.44.5555.6666.777.888899\"\n",
    "\n",
    "for char in reversed(unicode_table.keys()):\n",
    "    available_slots = list(re.finditer(r\"\\.+\", \"\".join(block_list)))\n",
    "    for slot in available_slots:\n",
    "        char_init = block_list.index(char)\n",
    "        if char_init < slot.start():\n",
    "            break\n",
    "\n",
    "        slot_size = slot.end() - slot.start()\n",
    "        block_size = block.count(str(char))\n",
    "        if slot_size >= block_size:\n",
    "            block_list[char_init:char_init + block_size] = \".\" * block_size\n",
    "            block_list[slot.start():slot.start() + block_size] = (char * block_size)\n",
    "            break\n",
    "\n",
    "if not PROD:\n",
    "    assert \"\".join(block_list) == \"00992111777.44.333....5555.6666.....8888..\"\n",
    "\n",
    "sum(i * unicode_table[n] for i, n in enumerate(block_list) if n!=\".\")"
   ]
  }
 ],
 "metadata": {
  "kernelspec": {
   "display_name": "Python [conda env:py311]",
   "language": "python",
   "name": "conda-env-py311-py"
  },
  "language_info": {
   "codemirror_mode": {
    "name": "ipython",
    "version": 3
   },
   "file_extension": ".py",
   "mimetype": "text/x-python",
   "name": "python",
   "nbconvert_exporter": "python",
   "pygments_lexer": "ipython3",
   "version": "3.11.9"
  }
 },
 "nbformat": 4,
 "nbformat_minor": 5
}
