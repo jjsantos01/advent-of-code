{
 "cells": [
  {
   "cell_type": "markdown",
   "id": "66f94376-68d6-4af5-846b-f666492167f4",
   "metadata": {},
   "source": [
    "https://adventofcode.com/2024/day/2"
   ]
  },
  {
   "cell_type": "code",
   "execution_count": 1,
   "id": "2e5a8d6c-722a-4672-b371-bcb2bd3af6cf",
   "metadata": {},
   "outputs": [
    {
     "name": "stdout",
     "output_type": "stream",
     "text": [
      "51 54 57 60 61 64 67 64\n",
      "54 56 57 58 60 60\n",
      "41 44 45 46 48 50 54\n",
      "62 64 67 69 72 79\n",
      "57 58 61 62 63 61 64\n",
      "81 84 82 84 87 85\n",
      "15 17 15 16 16\n",
      "82 85 87 85 87 91\n",
      "5 6 5 8 10 12 17\n",
      "69 70 71 73 74 74 76\n",
      "12 13 16 \n"
     ]
    }
   ],
   "source": [
    "input_test = \"\"\"7 6 4 2 1\n",
    "1 2 7 8 9\n",
    "9 7 6 2 1\n",
    "1 3 2 4 5\n",
    "8 6 4 4 1\n",
    "1 3 6 7 9\"\"\"\n",
    "\n",
    "with open('data/day_02.txt') as txtfile:\n",
    "    input_day = txtfile.read()\n",
    "    \n",
    "PROD = 1\n",
    "input_data = input_day if PROD else input_test\n",
    "print(input_data[0:200])"
   ]
  },
  {
   "cell_type": "code",
   "execution_count": 2,
   "id": "6513318e-21b2-447d-a7aa-9e9e5819ce32",
   "metadata": {
    "scrolled": true
   },
   "outputs": [
    {
     "data": {
      "text/plain": [
       "[[51, 54, 57, 60, 61, 64, 67, 64],\n",
       " [54, 56, 57, 58, 60, 60],\n",
       " [41, 44, 45, 46, 48, 50, 54],\n",
       " [62, 64, 67, 69, 72, 79],\n",
       " [57, 58, 61, 62, 63, 61, 64]]"
      ]
     },
     "execution_count": 2,
     "metadata": {},
     "output_type": "execute_result"
    }
   ],
   "source": [
    "reports = [[int(l) for l in line.split()] for line in input_data.splitlines()]\n",
    "reports[:5]"
   ]
  },
  {
   "cell_type": "markdown",
   "id": "e105b5c8-9391-48e2-930d-b92ce4acf7ab",
   "metadata": {},
   "source": [
    "# Part I"
   ]
  },
  {
   "cell_type": "code",
   "execution_count": 3,
   "id": "e029a837-6799-43b7-83e5-6c78ea12fc77",
   "metadata": {},
   "outputs": [
    {
     "data": {
      "text/plain": [
       "224"
      ]
     },
     "execution_count": 3,
     "metadata": {},
     "output_type": "execute_result"
    }
   ],
   "source": [
    "def is_safe_report(report):\n",
    "    is_increasing = (report[1] - report[0]) > 0\n",
    "    for i in range(len(report) - 1):\n",
    "        diff = report[i + 1] - report[i]\n",
    "        if (diff == 0) or (abs(diff) > 3) or (is_increasing != (diff > 0)):\n",
    "            return False\n",
    "    return True\n",
    "\n",
    "\n",
    "solution_1 = sum(is_safe_report(report) for report in reports)\n",
    "if not PROD:\n",
    "    assert solution_1 == 2\n",
    "    print(\"Test solution 1 OK\")\n",
    "solution_1"
   ]
  },
  {
   "cell_type": "markdown",
   "id": "2bc3afe1-73ef-43f1-8cea-a3da8e9a6a1d",
   "metadata": {},
   "source": [
    "# Part II"
   ]
  },
  {
   "cell_type": "code",
   "execution_count": 4,
   "id": "7591807b-05f1-4c85-a43b-e7e6d5b1bcd3",
   "metadata": {},
   "outputs": [
    {
     "data": {
      "text/plain": [
       "293"
      ]
     },
     "execution_count": 4,
     "metadata": {},
     "output_type": "execute_result"
    }
   ],
   "source": [
    "def is_safe_report_tolerant(report):\n",
    "    if is_safe_report(report):\n",
    "        return True\n",
    "    else:\n",
    "        for i in range(len(report)):\n",
    "            new_report = report.copy()\n",
    "            new_report.pop(i)\n",
    "            if is_safe_report(new_report):\n",
    "                return True\n",
    "    return False\n",
    "\n",
    "solution_2 = sum(is_safe_report_tolerant(report) for report in reports)\n",
    "if not PROD:\n",
    "    assert solution_2 == 4\n",
    "    print(\"Test solution 2 OK\")\n",
    "\n",
    "solution_2"
   ]
  }
 ],
 "metadata": {
  "kernelspec": {
   "display_name": "Python [conda env:py311]",
   "language": "python",
   "name": "conda-env-py311-py"
  },
  "language_info": {
   "codemirror_mode": {
    "name": "ipython",
    "version": 3
   },
   "file_extension": ".py",
   "mimetype": "text/x-python",
   "name": "python",
   "nbconvert_exporter": "python",
   "pygments_lexer": "ipython3",
   "version": "3.11.9"
  }
 },
 "nbformat": 4,
 "nbformat_minor": 5
}
