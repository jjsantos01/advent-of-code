{
 "cells": [
  {
   "cell_type": "markdown",
   "id": "162f45b7-63c4-43bf-a56e-827c4a21a7fb",
   "metadata": {},
   "source": [
    "https://adventofcode.com/2024/day/7"
   ]
  },
  {
   "cell_type": "code",
   "execution_count": 1,
   "id": "f3f06fdf-8d53-4ae1-832a-0f2c3954c9cc",
   "metadata": {},
   "outputs": [
    {
     "name": "stdout",
     "output_type": "stream",
     "text": [
      "590877201219: 9 985 5 9 7 8 76 8 174\n",
      "341481: 7 3 31 915 25 394 9 75\n",
      "4060: 4 35 47 1 3 5 4 3 8 1 895\n",
      "10555865325: 7 7 2 2 78 6 546 9 81 5\n",
      "589800341: 996 79 4 5 11 2 137\n",
      "499: 2 9 9 5 4\n",
      "14644280: 35 996 \n"
     ]
    },
    {
     "data": {
      "text/plain": [
       "[[590877201219, 9, 985, 5, 9, 7, 8, 76, 8, 174],\n",
       " [341481, 7, 3, 31, 915, 25, 394, 9, 75],\n",
       " [4060, 4, 35, 47, 1, 3, 5, 4, 3, 8, 1, 895],\n",
       " [10555865325, 7, 7, 2, 2, 78, 6, 546, 9, 81, 5],\n",
       " [589800341, 996, 79, 4, 5, 11, 2, 137],\n",
       " [499, 2, 9, 9, 5, 4],\n",
       " [14644280, 35, 996, 84, 616, 5],\n",
       " [58781, 2, 5, 4, 337, 6, 7, 3, 1, 4, 7, 3, 6],\n",
       " [78542, 8, 777, 44],\n",
       " [75387319, 7, 76, 6, 7, 4, 2, 9, 7, 6, 9, 8, 318]]"
      ]
     },
     "execution_count": 1,
     "metadata": {},
     "output_type": "execute_result"
    }
   ],
   "source": [
    "import itertools\n",
    "\n",
    "input_test = \"\"\"190: 10 19\n",
    "3267: 81 40 27\n",
    "83: 17 5\n",
    "156: 15 6\n",
    "7290: 6 8 6 15\n",
    "161011: 16 10 13\n",
    "192: 17 8 14\n",
    "21037: 9 7 18 13\n",
    "292: 11 6 16 20\"\"\"\n",
    "\n",
    "with open('data/day_07.txt') as txtfile:\n",
    "    input_day = txtfile.read()\n",
    "    \n",
    "PROD = 1\n",
    "input_data = input_day if PROD else input_test\n",
    "print(input_data[0:200])\n",
    "data = []\n",
    "for line in input_data.splitlines():\n",
    "    r, l = line.split(\":\")\n",
    "    data.append([int(r)] + [int(n) for n in l.split()])\n",
    "data[0:10]"
   ]
  },
  {
   "cell_type": "markdown",
   "id": "c9f45638-e1b4-455b-8143-e552cdef8ecd",
   "metadata": {},
   "source": [
    "# PART I"
   ]
  },
  {
   "cell_type": "code",
   "execution_count": 2,
   "id": "fa5e254d-6d47-4313-aeb9-033ce9530290",
   "metadata": {},
   "outputs": [
    {
     "data": {
      "text/plain": [
       "538191549061"
      ]
     },
     "execution_count": 2,
     "metadata": {},
     "output_type": "execute_result"
    }
   ],
   "source": [
    "calibrations = []\n",
    "for line in data:\n",
    "    n = line[0]\n",
    "    operations = list(itertools.product([0, 1], repeat=len(line)-2))\n",
    "    for op in operations: \n",
    "        total = line[1]\n",
    "        v_rest = line[2:]\n",
    "        for i, value in enumerate(v_rest):\n",
    "            if op[i]:\n",
    "                total *= value\n",
    "            else:\n",
    "                total += value\n",
    "            if total > n:\n",
    "                break\n",
    "        \n",
    "        if total == n:\n",
    "            calibrations.append(n)\n",
    "            break\n",
    "sum(calibrations)"
   ]
  },
  {
   "cell_type": "markdown",
   "id": "ea911528-0d1f-443a-803b-3cf06dd72132",
   "metadata": {},
   "source": [
    "# PART II"
   ]
  },
  {
   "cell_type": "code",
   "execution_count": 3,
   "id": "feb85a92-f8d7-4bce-805e-abab14e92188",
   "metadata": {},
   "outputs": [
    {
     "data": {
      "text/plain": [
       "34612812972206"
      ]
     },
     "execution_count": 3,
     "metadata": {},
     "output_type": "execute_result"
    }
   ],
   "source": [
    "calibrations = []\n",
    "for line in data:\n",
    "    n = line[0]\n",
    "    operations = list(itertools.product([0, 1, 2], repeat=len(line)-2))\n",
    "    finish = False\n",
    "    for op in operations: \n",
    "        total = line[1]\n",
    "        v_rest = line[2:]\n",
    "        for i, value in enumerate(v_rest):\n",
    "            if op[i] == 1:\n",
    "                total *= value\n",
    "            elif op[i] == 0:\n",
    "                total += value\n",
    "            else:\n",
    "                total = int(str(total) + str(value))\n",
    "            if total > n:\n",
    "                break\n",
    "        \n",
    "        if total == n:\n",
    "            calibrations.append(n)\n",
    "            break\n",
    "\n",
    "sum(calibrations)"
   ]
  }
 ],
 "metadata": {
  "kernelspec": {
   "display_name": "Python [conda env:py311]",
   "language": "python",
   "name": "conda-env-py311-py"
  },
  "language_info": {
   "codemirror_mode": {
    "name": "ipython",
    "version": 3
   },
   "file_extension": ".py",
   "mimetype": "text/x-python",
   "name": "python",
   "nbconvert_exporter": "python",
   "pygments_lexer": "ipython3",
   "version": "3.11.9"
  }
 },
 "nbformat": 4,
 "nbformat_minor": 5
}
