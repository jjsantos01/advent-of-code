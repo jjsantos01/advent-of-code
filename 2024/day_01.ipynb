{
 "cells": [
  {
   "cell_type": "markdown",
   "id": "354b3e57-03e9-4edb-8de2-1ccd47724068",
   "metadata": {},
   "source": [
    "https://adventofcode.com/2024/day/1"
   ]
  },
  {
   "cell_type": "code",
   "execution_count": 1,
   "id": "e4aa92ff-5fd2-4b23-b598-187516a7ad89",
   "metadata": {},
   "outputs": [
    {
     "name": "stdout",
     "output_type": "stream",
     "text": [
      "40885   43247\n",
      "14780   86274\n",
      "35132   49508\n",
      "87895   32621\n",
      "66398   24390\n",
      "52630   25877\n",
      "45307   76591\n",
      "95628   97627\n",
      "72163   78355\n",
      "98522   95603\n",
      "57216   46881\n",
      "12008   48861\n",
      "38298   46535\n",
      "71855   82832\n",
      "9258\n"
     ]
    }
   ],
   "source": [
    "input_test = \"\"\"3   4\n",
    "4   3\n",
    "2   5\n",
    "1   3\n",
    "3   9\n",
    "3   3\"\"\"\n",
    "\n",
    "with open('data/day_01.txt') as txtfile:\n",
    "    input_day = txtfile.read()\n",
    "    \n",
    "PROD = 1\n",
    "input_data = input_day if PROD else input_test\n",
    "print(input_data[0:200])"
   ]
  },
  {
   "cell_type": "code",
   "execution_count": 2,
   "id": "67b56af0-280a-4256-a09b-225dfe216e50",
   "metadata": {},
   "outputs": [],
   "source": [
    "data_left = []\n",
    "data_right = []\n",
    "for line in input_data.splitlines():\n",
    "    left, right = line.split()\n",
    "    data_left.append(int(left))\n",
    "    data_right.append(int(right))\n",
    "    \n",
    "data_left.sort()\n",
    "data_right.sort()"
   ]
  },
  {
   "cell_type": "markdown",
   "id": "60ee4ffd-c41c-42cb-96d7-3e796efb7740",
   "metadata": {},
   "source": [
    "# Part I"
   ]
  },
  {
   "cell_type": "code",
   "execution_count": 3,
   "id": "b9b2cdf0-b991-4481-9f84-17e10e2c4e71",
   "metadata": {},
   "outputs": [
    {
     "data": {
      "text/plain": [
       "1941353"
      ]
     },
     "execution_count": 3,
     "metadata": {},
     "output_type": "execute_result"
    }
   ],
   "source": [
    "solution_1 = sum(abs(l-r) for l, r in zip(data_left, data_right))\n",
    "if not PROD:\n",
    "    assert solution_1 == 11\n",
    "    print(\"Test solution 1 OK\")\n",
    "solution_1"
   ]
  },
  {
   "cell_type": "markdown",
   "id": "6916f34e-4bd9-4a0b-aa1c-595ec5970548",
   "metadata": {},
   "source": [
    "# Part II"
   ]
  },
  {
   "cell_type": "code",
   "execution_count": 4,
   "id": "b7c1d49c-030a-44aa-8c50-194aa951a6de",
   "metadata": {},
   "outputs": [
    {
     "data": {
      "text/plain": [
       "22539317"
      ]
     },
     "execution_count": 4,
     "metadata": {},
     "output_type": "execute_result"
    }
   ],
   "source": [
    "count = dict(\n",
    "    zip(\n",
    "        set(data_right),\n",
    "        (data_right.count(n) for n in set(data_right))\n",
    "    )\n",
    ")\n",
    "solution_2 = sum([n * count.get(n, 0) for n in data_left])\n",
    "\n",
    "if not PROD:\n",
    "    assert solution_2 == 31\n",
    "    print(\"Test solution 2 OK\")\n",
    "\n",
    "solution_2"
   ]
  }
 ],
 "metadata": {
  "kernelspec": {
   "display_name": "Python [conda env:py311]",
   "language": "python",
   "name": "conda-env-py311-py"
  },
  "language_info": {
   "codemirror_mode": {
    "name": "ipython",
    "version": 3
   },
   "file_extension": ".py",
   "mimetype": "text/x-python",
   "name": "python",
   "nbconvert_exporter": "python",
   "pygments_lexer": "ipython3",
   "version": "3.11.9"
  }
 },
 "nbformat": 4,
 "nbformat_minor": 5
}
