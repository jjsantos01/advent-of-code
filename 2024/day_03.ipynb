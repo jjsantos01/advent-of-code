{
 "cells": [
  {
   "cell_type": "markdown",
   "id": "397f7fe9-2d70-49e4-8fae-0e154fddd0b2",
   "metadata": {},
   "source": [
    "https://adventofcode.com/2024/day/3"
   ]
  },
  {
   "cell_type": "code",
   "execution_count": 1,
   "id": "11df29ae-bc27-41da-ac39-c56b73ba181f",
   "metadata": {},
   "outputs": [
    {
     "name": "stdout",
     "output_type": "stream",
     "text": [
      "%why();how()*-],+!mul(696,865)why()from()how():,;{where()mul(170,685)who()how()*from(881,957)?&select()mul(894,569):mul(648,114);[:from(657,891)how()mul(740,402)what()&/,do()~^why()who(762,850)mul(80,\n"
     ]
    }
   ],
   "source": [
    "import re\n",
    "input_test = \"\"\"xmul(2,4)%&mul[3,7]!@^do_not_mul(5,5)+mul(32,64]then(mul(11,8)mul(8,5))\"\"\"\n",
    "\n",
    "with open('data/day_03.txt') as txtfile:\n",
    "    input_day = txtfile.read()\n",
    "    \n",
    "PROD = 1\n",
    "input_data = input_day if PROD else input_test\n",
    "print(input_data[0:200])"
   ]
  },
  {
   "cell_type": "markdown",
   "id": "aa71b643-bec7-442a-b349-73d9ff5bcaa1",
   "metadata": {},
   "source": [
    "# Part 1"
   ]
  },
  {
   "cell_type": "code",
   "execution_count": 2,
   "id": "5dc4f4c4-6085-4cc4-abd8-9c942cb28a7a",
   "metadata": {},
   "outputs": [
    {
     "data": {
      "text/plain": [
       "166357705"
      ]
     },
     "execution_count": 2,
     "metadata": {},
     "output_type": "execute_result"
    }
   ],
   "source": [
    "mul_pattern = r\"mul\\((?P<n1>\\d{1,3}),(?P<n2>\\d{1,3})\\)\"\n",
    "sum([int(i.group(\"n1\")) * int(i.group(\"n2\")) for i in re.finditer(mul_pattern, input_data)])"
   ]
  },
  {
   "cell_type": "markdown",
   "id": "40226174-35f9-4926-8984-daaa9c3058e9",
   "metadata": {},
   "source": [
    "# Part 2"
   ]
  },
  {
   "cell_type": "code",
   "execution_count": 3,
   "id": "0151e0e4-70c7-47fd-b1bf-3b1bcb6c43a7",
   "metadata": {},
   "outputs": [
    {
     "data": {
      "text/plain": [
       "88811886"
      ]
     },
     "execution_count": 3,
     "metadata": {},
     "output_type": "execute_result"
    }
   ],
   "source": [
    "dont_patern = r\"(don't\\(\\))|(do\\(\\))\"\n",
    "text = \"do()\" + input_data + \"don't()\"\n",
    "last = 1 # do=1, don't=0\n",
    "start = 0\n",
    "textos = \"\"\n",
    "for i in re.finditer(dont_patern, text):\n",
    "    if i.groups()[0]: # don't\n",
    "        if last == 1:\n",
    "            end = i.start()\n",
    "            textos += text[start:end]\n",
    "            last = 0\n",
    "    else: # do\n",
    "        if last == 0:\n",
    "            start = i.end()\n",
    "            last = 1\n",
    "\n",
    "mul_pattern = r\"mul\\((?P<n1>\\d{1,3}),(?P<n2>\\d{1,3})\\)\"\n",
    "sum([int(i.group(\"n1\")) * int(i.group(\"n2\")) for i in re.finditer(mul_pattern, textos)])"
   ]
  },
  {
   "cell_type": "code",
   "execution_count": 4,
   "id": "f38b4d28-53bb-4444-b712-2fcf2d9e254b",
   "metadata": {},
   "outputs": [],
   "source": [
    "# for i in re.finditer(r\"do\\(\\)[\\s\\S]*?don't\\(\\)\", text):\n",
    "#     print(i)"
   ]
  }
 ],
 "metadata": {
  "kernelspec": {
   "display_name": "Python [conda env:py311]",
   "language": "python",
   "name": "conda-env-py311-py"
  },
  "language_info": {
   "codemirror_mode": {
    "name": "ipython",
    "version": 3
   },
   "file_extension": ".py",
   "mimetype": "text/x-python",
   "name": "python",
   "nbconvert_exporter": "python",
   "pygments_lexer": "ipython3",
   "version": "3.11.9"
  }
 },
 "nbformat": 4,
 "nbformat_minor": 5
}
