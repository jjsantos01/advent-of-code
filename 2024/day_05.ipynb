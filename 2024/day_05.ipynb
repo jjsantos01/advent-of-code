{
 "cells": [
  {
   "cell_type": "markdown",
   "id": "ea47bf1f-51a1-4c3d-aa75-7d0c1e6114e6",
   "metadata": {},
   "source": [
    "https://adventofcode.com/2024/day/5"
   ]
  },
  {
   "cell_type": "code",
   "execution_count": 1,
   "id": "a2e0f924-7ca9-4041-ab20-8267cb332e3b",
   "metadata": {},
   "outputs": [
    {
     "name": "stdout",
     "output_type": "stream",
     "text": [
      "96|56\n",
      "68|78\n",
      "68|96\n",
      "52|85\n",
      "52|14\n",
      "52|76\n",
      "85|18\n",
      "85|96\n",
      "85|13\n",
      "85|75\n",
      "64|15\n",
      "64|75\n",
      "64|16\n",
      "64|41\n",
      "64|49\n",
      "49|22\n",
      "49|88\n",
      "49|56\n",
      "49|67\n",
      "49|86\n",
      "49|78\n",
      "88|56\n",
      "88|16\n",
      "88|29\n",
      "88|22\n",
      "88|18\n",
      "88|41\n",
      "88|87\n",
      "33|17\n",
      "33|14\n",
      "33|95\n",
      "33|13\n",
      "33|85\n",
      "33\n"
     ]
    }
   ],
   "source": [
    "import re\n",
    "\n",
    "input_test = \"\"\"47|53\n",
    "97|13\n",
    "97|61\n",
    "97|47\n",
    "75|29\n",
    "61|13\n",
    "75|53\n",
    "29|13\n",
    "97|29\n",
    "53|29\n",
    "61|53\n",
    "97|53\n",
    "61|29\n",
    "47|13\n",
    "75|47\n",
    "97|75\n",
    "47|61\n",
    "75|61\n",
    "47|29\n",
    "75|13\n",
    "53|13\n",
    "\n",
    "75,47,61,53,29\n",
    "97,61,53,29,13\n",
    "75,29,13\n",
    "75,97,47,61,53\n",
    "61,13,29\n",
    "97,13,75,29,47\"\"\"\n",
    "\n",
    "with open('data/day_05.txt') as txtfile:\n",
    "    input_day = txtfile.read()\n",
    "    \n",
    "PROD = 1\n",
    "input_data = input_day if PROD else input_test\n",
    "print(input_data[0:200])"
   ]
  },
  {
   "cell_type": "code",
   "execution_count": 2,
   "id": "e47c9c56-85b6-4200-92f4-a8f086f41d6f",
   "metadata": {},
   "outputs": [],
   "source": [
    "rules, updates = input_data.split(\"\\n\\n\")\n",
    "rules = [l.split(\"|\") for l in rules.splitlines()]\n",
    "updates = updates.splitlines()"
   ]
  },
  {
   "cell_type": "markdown",
   "id": "fe3f819d-5351-4d8a-8c86-7be78fa68e25",
   "metadata": {},
   "source": [
    "# PART 1"
   ]
  },
  {
   "cell_type": "code",
   "execution_count": 6,
   "id": "7bbdb2b3-57a8-4242-92f8-bca75b1b6fc7",
   "metadata": {},
   "outputs": [
    {
     "name": "stdout",
     "output_type": "stream",
     "text": [
      "5713\n"
     ]
    }
   ],
   "source": [
    "sum_of_medians = 0\n",
    "for up in updates:\n",
    "    valid = True\n",
    "    for ru in rules:\n",
    "        if re.findall(f\"{ru[1]}.*,{ru[0]}\", up):\n",
    "            valid = False\n",
    "            break\n",
    "    if valid:\n",
    "        values = up.split(\",\")\n",
    "        sum_of_medians += int(values[(len(values) // 2)])\n",
    "print(sum_of_medians)"
   ]
  },
  {
   "cell_type": "markdown",
   "id": "de14ea45-729f-4dfb-9ca3-986219ee7cee",
   "metadata": {},
   "source": [
    "# PART 2"
   ]
  },
  {
   "cell_type": "code",
   "execution_count": 5,
   "id": "f4b68b7a-e829-43d5-8696-335948a3c1dd",
   "metadata": {},
   "outputs": [
    {
     "name": "stdout",
     "output_type": "stream",
     "text": [
      "5180\n"
     ]
    }
   ],
   "source": [
    "sum_of_medians = 0\n",
    "for up in updates:\n",
    "    l = up.split(\",\")\n",
    "    total = None\n",
    "    n_invalids = 0\n",
    "    while total!=0:\n",
    "        total = 0\n",
    "        for ru in rules:\n",
    "            if invalid := len(re.findall(f\"{ru[1]}.*,{ru[0]}\", up)):\n",
    "                index_mayor = l.index(ru[1])\n",
    "                index_menor = l.index(ru[0])\n",
    "                l.insert(index_mayor, l.pop(index_menor))\n",
    "                up = \",\".join(l)\n",
    "            total += invalid\n",
    "            n_invalids += total\n",
    "    if n_invalids > 0:\n",
    "        sum_of_medians += int(l[(len(l) // 2)])\n",
    "        \n",
    "print(sum_of_medians)"
   ]
  }
 ],
 "metadata": {
  "kernelspec": {
   "display_name": "Python [conda env:py311]",
   "language": "python",
   "name": "conda-env-py311-py"
  },
  "language_info": {
   "codemirror_mode": {
    "name": "ipython",
    "version": 3
   },
   "file_extension": ".py",
   "mimetype": "text/x-python",
   "name": "python",
   "nbconvert_exporter": "python",
   "pygments_lexer": "ipython3",
   "version": "3.11.9"
  }
 },
 "nbformat": 4,
 "nbformat_minor": 5
}
