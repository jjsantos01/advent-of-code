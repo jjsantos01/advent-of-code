{
 "cells": [
  {
   "cell_type": "markdown",
   "id": "ede060ae-1524-41e4-8d10-52c0ee5aa178",
   "metadata": {},
   "source": [
    "https://adventofcode.com/2023/day/13"
   ]
  },
  {
   "cell_type": "code",
   "execution_count": 1,
   "id": "7d86a408",
   "metadata": {},
   "outputs": [],
   "source": [
    "import pandas as pd"
   ]
  },
  {
   "cell_type": "code",
   "execution_count": 63,
   "id": "f431c8d5-3ea1-4f55-9a9e-c8da61df2b3c",
   "metadata": {},
   "outputs": [
    {
     "name": "stdout",
     "output_type": "stream",
     "text": [
      "....#....#.\n",
      "..##.####.#\n",
      "####.####.#\n",
      "####..##..#\n",
      "######..###\n",
      "....##..##.\n",
      ".....####..\n",
      "####......#\n",
      "..##.####.#\n",
      "..##..##..#\n",
      "..#.#.##.#.\n",
      "###.##..##.\n",
      "#.#.#.##.#.\n",
      "####.####.#\n",
      "#####.##.##\n",
      "\n",
      ".#......##.#.#...\n",
      ".\n"
     ]
    }
   ],
   "source": [
    "input_test = \"\"\"#.##..##.\n",
    "..#.##.#.\n",
    "##......#\n",
    "##......#\n",
    "..#.##.#.\n",
    "..##..##.\n",
    "#.#.##.#.\n",
    "\n",
    "#...##..#\n",
    "#....#..#\n",
    "..##..###\n",
    "#####.##.\n",
    "#####.##.\n",
    "..##..###\n",
    "#....#..#\"\"\"\n",
    "\n",
    "with open('data/day_13.txt') as txtfile:\n",
    "    input_day = txtfile.read()\n",
    "    \n",
    "PROD = 1\n",
    "input_data = input_day if PROD else input_test\n",
    "print(input_data[0:200])"
   ]
  },
  {
   "cell_type": "markdown",
   "id": "2feb4824",
   "metadata": {
    "tags": []
   },
   "source": [
    "# Part I"
   ]
  },
  {
   "cell_type": "code",
   "execution_count": 73,
   "id": "acd2c77e",
   "metadata": {},
   "outputs": [
    {
     "data": {
      "text/plain": [
       "35538"
      ]
     },
     "execution_count": 73,
     "metadata": {},
     "output_type": "execute_result"
    }
   ],
   "source": [
    "def get_left_mirror_columns(df):\n",
    "    for i in range(df.shape[1]-1):\n",
    "        if df[i].eq(df[i+1]).all():\n",
    "            d = 0\n",
    "            for l, r in zip(range(i, -1, -1), range(i+1, df.shape[1], 1)):\n",
    "                if not df[l].eq(df[r]).all():\n",
    "                    d+=1\n",
    "                    break\n",
    "            if d==0:\n",
    "                return i + 1\n",
    "    return 0\n",
    "\n",
    "splitted_lines = [pd.DataFrame([list(l) for l in block.splitlines()]) for block in input_data.split(\"\\n\\n\")]\n",
    "sum(get_left_mirror_columns(df) + (100 * get_left_mirror_columns(df.T)) for df in splitted_lines)"
   ]
  },
  {
   "cell_type": "markdown",
   "id": "664ab31e",
   "metadata": {},
   "source": [
    "# Part 2"
   ]
  },
  {
   "cell_type": "code",
   "execution_count": 75,
   "id": "ac03098e",
   "metadata": {
    "scrolled": true,
    "tags": []
   },
   "outputs": [
    {
     "data": {
      "text/plain": [
       "30442"
      ]
     },
     "execution_count": 75,
     "metadata": {},
     "output_type": "execute_result"
    }
   ],
   "source": [
    "def get_left_mirror_columns_fix(df):\n",
    "    old_i = get_left_mirror_columns(df)\n",
    "    for i in range(df.shape[1]-1):\n",
    "        if df[i].ne(df[i+1]).sum() <= 1:\n",
    "            d = 0\n",
    "            smudge = 0\n",
    "            for l, r in zip(range(i, -1, -1), range(i+1, df.shape[1], 1)):\n",
    "                if df[l].ne(df[r]).sum()==1:\n",
    "                    smudge += 1\n",
    "                    if smudge > 1:\n",
    "                        break\n",
    "                elif df[l].ne(df[r]).sum()>1:    \n",
    "                    d+=1\n",
    "                    break\n",
    "            if (d==0) & (smudge <= 1) & (old_i != i +1):\n",
    "                return i + 1\n",
    "    return 0\n",
    "\n",
    "splitted_lines = [pd.DataFrame([list(l) for l in block.splitlines()]) for block in input_data.split(\"\\n\\n\")]\n",
    "sum(get_left_mirror_columns_fix(df) + (100 * get_left_mirror_columns_fix(df.T)) for df in splitted_lines)"
   ]
  },
  {
   "cell_type": "code",
   "execution_count": null,
   "id": "14cad412-0572-4dd1-ada8-34772788ccf1",
   "metadata": {},
   "outputs": [],
   "source": [
    "# Too high: 48400\n",
    "# Too low: 22133"
   ]
  },
  {
   "cell_type": "code",
   "execution_count": 55,
   "id": "a09f78e0",
   "metadata": {},
   "outputs": [
    {
     "data": {
      "text/plain": [
       "(2, 0)"
      ]
     },
     "execution_count": 55,
     "metadata": {},
     "output_type": "execute_result"
    }
   ],
   "source": [
    "get_left_mirror_columns_fix(b), get_left_mirror_columns_fix(b.T)"
   ]
  },
  {
   "cell_type": "code",
   "execution_count": 56,
   "id": "7f6ec2c7",
   "metadata": {},
   "outputs": [
    {
     "data": {
      "text/plain": [
       "(2, 0)"
      ]
     },
     "execution_count": 56,
     "metadata": {},
     "output_type": "execute_result"
    }
   ],
   "source": [
    "get_left_mirror_columns(b), get_left_mirror_columns(b.T)"
   ]
  },
  {
   "cell_type": "code",
   "execution_count": 54,
   "id": "9bf2ddfb",
   "metadata": {},
   "outputs": [
    {
     "data": {
      "text/html": [
       "<div>\n",
       "<style scoped>\n",
       "    .dataframe tbody tr th:only-of-type {\n",
       "        vertical-align: middle;\n",
       "    }\n",
       "\n",
       "    .dataframe tbody tr th {\n",
       "        vertical-align: top;\n",
       "    }\n",
       "\n",
       "    .dataframe thead th {\n",
       "        text-align: right;\n",
       "    }\n",
       "</style>\n",
       "<table border=\"1\" class=\"dataframe\">\n",
       "  <thead>\n",
       "    <tr style=\"text-align: right;\">\n",
       "      <th></th>\n",
       "      <th>0</th>\n",
       "      <th>1</th>\n",
       "      <th>2</th>\n",
       "      <th>3</th>\n",
       "      <th>4</th>\n",
       "      <th>5</th>\n",
       "      <th>6</th>\n",
       "      <th>7</th>\n",
       "      <th>8</th>\n",
       "      <th>9</th>\n",
       "      <th>10</th>\n",
       "    </tr>\n",
       "  </thead>\n",
       "  <tbody>\n",
       "    <tr>\n",
       "      <th>0</th>\n",
       "      <td>.</td>\n",
       "      <td>.</td>\n",
       "      <td>.</td>\n",
       "      <td>.</td>\n",
       "      <td>#</td>\n",
       "      <td>.</td>\n",
       "      <td>.</td>\n",
       "      <td>.</td>\n",
       "      <td>.</td>\n",
       "      <td>#</td>\n",
       "      <td>#</td>\n",
       "    </tr>\n",
       "    <tr>\n",
       "      <th>1</th>\n",
       "      <td>#</td>\n",
       "      <td>#</td>\n",
       "      <td>#</td>\n",
       "      <td>#</td>\n",
       "      <td>.</td>\n",
       "      <td>.</td>\n",
       "      <td>#</td>\n",
       "      <td>.</td>\n",
       "      <td>#</td>\n",
       "      <td>.</td>\n",
       "      <td>.</td>\n",
       "    </tr>\n",
       "    <tr>\n",
       "      <th>2</th>\n",
       "      <td>#</td>\n",
       "      <td>#</td>\n",
       "      <td>#</td>\n",
       "      <td>#</td>\n",
       "      <td>#</td>\n",
       "      <td>.</td>\n",
       "      <td>.</td>\n",
       "      <td>.</td>\n",
       "      <td>.</td>\n",
       "      <td>#</td>\n",
       "      <td>#</td>\n",
       "    </tr>\n",
       "    <tr>\n",
       "      <th>3</th>\n",
       "      <td>#</td>\n",
       "      <td>.</td>\n",
       "      <td>.</td>\n",
       "      <td>#</td>\n",
       "      <td>#</td>\n",
       "      <td>.</td>\n",
       "      <td>.</td>\n",
       "      <td>.</td>\n",
       "      <td>#</td>\n",
       "      <td>.</td>\n",
       "      <td>#</td>\n",
       "    </tr>\n",
       "    <tr>\n",
       "      <th>4</th>\n",
       "      <td>#</td>\n",
       "      <td>.</td>\n",
       "      <td>.</td>\n",
       "      <td>#</td>\n",
       "      <td>.</td>\n",
       "      <td>.</td>\n",
       "      <td>.</td>\n",
       "      <td>.</td>\n",
       "      <td>.</td>\n",
       "      <td>#</td>\n",
       "      <td>#</td>\n",
       "    </tr>\n",
       "    <tr>\n",
       "      <th>5</th>\n",
       "      <td>#</td>\n",
       "      <td>.</td>\n",
       "      <td>.</td>\n",
       "      <td>#</td>\n",
       "      <td>.</td>\n",
       "      <td>.</td>\n",
       "      <td>#</td>\n",
       "      <td>.</td>\n",
       "      <td>.</td>\n",
       "      <td>#</td>\n",
       "      <td>#</td>\n",
       "    </tr>\n",
       "    <tr>\n",
       "      <th>6</th>\n",
       "      <td>.</td>\n",
       "      <td>.</td>\n",
       "      <td>.</td>\n",
       "      <td>.</td>\n",
       "      <td>#</td>\n",
       "      <td>.</td>\n",
       "      <td>#</td>\n",
       "      <td>.</td>\n",
       "      <td>#</td>\n",
       "      <td>.</td>\n",
       "      <td>.</td>\n",
       "    </tr>\n",
       "    <tr>\n",
       "      <th>7</th>\n",
       "      <td>.</td>\n",
       "      <td>.</td>\n",
       "      <td>.</td>\n",
       "      <td>.</td>\n",
       "      <td>#</td>\n",
       "      <td>#</td>\n",
       "      <td>#</td>\n",
       "      <td>.</td>\n",
       "      <td>#</td>\n",
       "      <td>#</td>\n",
       "      <td>#</td>\n",
       "    </tr>\n",
       "    <tr>\n",
       "      <th>8</th>\n",
       "      <td>.</td>\n",
       "      <td>.</td>\n",
       "      <td>.</td>\n",
       "      <td>.</td>\n",
       "      <td>.</td>\n",
       "      <td>.</td>\n",
       "      <td>#</td>\n",
       "      <td>.</td>\n",
       "      <td>#</td>\n",
       "      <td>#</td>\n",
       "      <td>#</td>\n",
       "    </tr>\n",
       "    <tr>\n",
       "      <th>9</th>\n",
       "      <td>#</td>\n",
       "      <td>#</td>\n",
       "      <td>#</td>\n",
       "      <td>#</td>\n",
       "      <td>#</td>\n",
       "      <td>#</td>\n",
       "      <td>#</td>\n",
       "      <td>.</td>\n",
       "      <td>.</td>\n",
       "      <td>#</td>\n",
       "      <td>#</td>\n",
       "    </tr>\n",
       "    <tr>\n",
       "      <th>10</th>\n",
       "      <td>#</td>\n",
       "      <td>#</td>\n",
       "      <td>#</td>\n",
       "      <td>#</td>\n",
       "      <td>#</td>\n",
       "      <td>#</td>\n",
       "      <td>.</td>\n",
       "      <td>#</td>\n",
       "      <td>.</td>\n",
       "      <td>#</td>\n",
       "      <td>#</td>\n",
       "    </tr>\n",
       "  </tbody>\n",
       "</table>\n",
       "</div>"
      ],
      "text/plain": [
       "   0  1  2  3  4  5  6  7  8  9  10\n",
       "0   .  .  .  .  #  .  .  .  .  #  #\n",
       "1   #  #  #  #  .  .  #  .  #  .  .\n",
       "2   #  #  #  #  #  .  .  .  .  #  #\n",
       "3   #  .  .  #  #  .  .  .  #  .  #\n",
       "4   #  .  .  #  .  .  .  .  .  #  #\n",
       "5   #  .  .  #  .  .  #  .  .  #  #\n",
       "6   .  .  .  .  #  .  #  .  #  .  .\n",
       "7   .  .  .  .  #  #  #  .  #  #  #\n",
       "8   .  .  .  .  .  .  #  .  #  #  #\n",
       "9   #  #  #  #  #  #  #  .  .  #  #\n",
       "10  #  #  #  #  #  #  .  #  .  #  #"
      ]
     },
     "execution_count": 54,
     "metadata": {},
     "output_type": "execute_result"
    }
   ],
   "source": [
    "b = splitted_lines[77]\n",
    "b"
   ]
  }
 ],
 "metadata": {
  "kernelspec": {
   "display_name": "Python 3 (ipykernel)",
   "language": "python",
   "name": "python3"
  },
  "language_info": {
   "codemirror_mode": {
    "name": "ipython",
    "version": 3
   },
   "file_extension": ".py",
   "mimetype": "text/x-python",
   "name": "python",
   "nbconvert_exporter": "python",
   "pygments_lexer": "ipython3",
   "version": "3.10.6"
  }
 },
 "nbformat": 4,
 "nbformat_minor": 5
}
