{
 "cells": [
  {
   "cell_type": "markdown",
   "id": "f1dcfd2d",
   "metadata": {
    "toc": true
   },
   "source": [
    "https://adventofcode.com/2023/day/19"
   ]
  },
  {
   "cell_type": "code",
   "execution_count": 137,
   "id": "2e719b89",
   "metadata": {
    "scrolled": true
   },
   "outputs": [],
   "source": [
    "import re\n",
    "import pandas as pd\n",
    "import numpy as np \n",
    "\n",
    "input_test = r\"\"\"px{a<2006:qkq,m>2090:A,rfg}\n",
    "pv{a>1716:R,A}\n",
    "lnx{m>1548:A,A}\n",
    "rfg{s<537:gd,x>2440:R,A}\n",
    "qs{s>3448:A,lnx}\n",
    "qkq{x<1416:A,crn}\n",
    "crn{x>2662:A,R}\n",
    "in{s<1351:px,qqz}\n",
    "qqz{s>2770:qs,m<1801:hdj,R}\n",
    "gd{a>3333:R,R}\n",
    "hdj{m>838:A,pv}\n",
    "\n",
    "{x=787,m=2655,a=1222,s=2876}\n",
    "{x=1679,m=44,a=2067,s=496}\n",
    "{x=2036,m=264,a=79,s=2244}\n",
    "{x=2461,m=1339,a=466,s=291}\n",
    "{x=2127,m=1623,a=2188,s=1013}\"\"\"\n",
    "\n",
    "with open('data/day_19.txt') as txtfile:\n",
    "    input_day = txtfile.read()\n",
    "\n",
    "def get_data(prod=0):\n",
    "    input_data = input_day if prod else input_test\n",
    "    return input_data\n",
    "\n"
   ]
  },
  {
   "cell_type": "markdown",
   "id": "e7eaf98f",
   "metadata": {},
   "source": [
    "# Part I"
   ]
  },
  {
   "cell_type": "code",
   "execution_count": 142,
   "id": "8926c8e2",
   "metadata": {},
   "outputs": [
    {
     "data": {
      "text/plain": [
       "353046"
      ]
     },
     "execution_count": 142,
     "metadata": {},
     "output_type": "execute_result"
    }
   ],
   "source": [
    "data = get_data(1)\n",
    "workflows_text, parts_text = data.split(\"\\n\\n\")\n",
    "workflows = {}\n",
    "for w in workflows_text.splitlines():\n",
    "    k = w.split(\"{\")\n",
    "    rules = {}\n",
    "    for r in k[1][:-1].split(\",\"):\n",
    "        r_s = r.split(\":\")\n",
    "        rules[r_s[0]] = r_s[1] if len(r_s) == 2 else None\n",
    "        \n",
    "    workflows[k[0]] = rules\n",
    "\n",
    "parts = [eval(f\"dict({p[1:-1]})\") for p in parts_text.splitlines()]\n",
    "\n",
    "current_w = \"in\"\n",
    "def get_next_w(current_w, current_p):\n",
    "    for k_w, v_w in workflows[current_w].items():\n",
    "        elem_w = re.split(\"<|>\", k_w)\n",
    "        if len(elem_w) == 2:\n",
    "            if eval(k_w.replace(elem_w[0], str(current_p[elem_w[0]]))):\n",
    "                return v_w\n",
    "        else:\n",
    "            return k_w\n",
    "        \n",
    "output = []\n",
    "\n",
    "for i, p in enumerate(parts):\n",
    "    current_w = \"in\"\n",
    "    while (current_w!=\"A\") and (current_w!=\"R\"):\n",
    "        current_w = get_next_w(current_w, p)\n",
    "    else:\n",
    "        if current_w==\"A\":\n",
    "            output.append(i)\n",
    "    \n",
    "sum([sum(parts[i].values()) for i in output])"
   ]
  },
  {
   "cell_type": "markdown",
   "id": "0803414c",
   "metadata": {},
   "source": [
    "# Part II"
   ]
  },
  {
   "cell_type": "code",
   "execution_count": 146,
   "id": "b624ea7c",
   "metadata": {},
   "outputs": [
    {
     "name": "stdout",
     "output_type": "stream",
     "text": [
      "1964\n"
     ]
    }
   ],
   "source": [
    "for k, v in workflows[\"in\"].items():   \n",
    "    if '<' in k:\n",
    "        posibles = int(k.split(\"<\")[1])\n",
    "        print(posibles)"
   ]
  }
 ],
 "metadata": {
  "kernelspec": {
   "display_name": "Python 3 (ipykernel)",
   "language": "python",
   "name": "python3"
  },
  "language_info": {
   "codemirror_mode": {
    "name": "ipython",
    "version": 3
   },
   "file_extension": ".py",
   "mimetype": "text/x-python",
   "name": "python",
   "nbconvert_exporter": "python",
   "pygments_lexer": "ipython3",
   "version": "3.10.6"
  },
  "toc": {
   "base_numbering": 1,
   "nav_menu": {},
   "number_sections": true,
   "sideBar": true,
   "skip_h1_title": false,
   "title_cell": "Table of Contents",
   "title_sidebar": "Contents",
   "toc_cell": true,
   "toc_position": {},
   "toc_section_display": true,
   "toc_window_display": false
  },
  "varInspector": {
   "cols": {
    "lenName": 16,
    "lenType": 16,
    "lenVar": 40
   },
   "kernels_config": {
    "python": {
     "delete_cmd_postfix": "",
     "delete_cmd_prefix": "del ",
     "library": "var_list.py",
     "varRefreshCmd": "print(var_dic_list())"
    },
    "r": {
     "delete_cmd_postfix": ") ",
     "delete_cmd_prefix": "rm(",
     "library": "var_list.r",
     "varRefreshCmd": "cat(var_dic_list()) "
    }
   },
   "types_to_exclude": [
    "module",
    "function",
    "builtin_function_or_method",
    "instance",
    "_Feature"
   ],
   "window_display": false
  }
 },
 "nbformat": 4,
 "nbformat_minor": 5
}
