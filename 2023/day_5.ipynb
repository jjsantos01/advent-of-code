{
 "cells": [
  {
   "cell_type": "markdown",
   "id": "33247297-6ff9-44d7-a020-0c1a5765a732",
   "metadata": {},
   "source": [
    "https://adventofcode.com/2023/day/5"
   ]
  },
  {
   "cell_type": "code",
   "execution_count": 1,
   "id": "522993ac-3202-4053-9da6-227112d89e12",
   "metadata": {},
   "outputs": [],
   "source": [
    "input_test = \"\"\"seeds: 79 14 55 13\n",
    "\n",
    "seed-to-soil map:\n",
    "50 98 2\n",
    "52 50 48\n",
    "\n",
    "soil-to-fertilizer map:\n",
    "0 15 37\n",
    "37 52 2\n",
    "39 0 15\n",
    "\n",
    "fertilizer-to-water map:\n",
    "49 53 8\n",
    "0 11 42\n",
    "42 0 7\n",
    "57 7 4\n",
    "\n",
    "water-to-light map:\n",
    "88 18 7\n",
    "18 25 70\n",
    "\n",
    "light-to-temperature map:\n",
    "45 77 23\n",
    "81 45 19\n",
    "68 64 13\n",
    "\n",
    "temperature-to-humidity map:\n",
    "0 69 1\n",
    "1 0 69\n",
    "\n",
    "humidity-to-location map:\n",
    "60 56 37\n",
    "56 93 4\"\"\"\n",
    "\n",
    "with open('data/day_5.txt') as txtfile:\n",
    "    input_day = txtfile.read()"
   ]
  },
  {
   "cell_type": "code",
   "execution_count": 75,
   "id": "18f2a8c2-558c-4177-a891-d2d54e6067db",
   "metadata": {
    "scrolled": true,
    "tags": []
   },
   "outputs": [
    {
     "data": {
      "text/plain": [
       "{'seeds': [79, 14, 55, 13],\n",
       " 'seed-to-soil map': [[50, 98, 2], [52, 50, 48]],\n",
       " 'soil-to-fertilizer map': [[0, 15, 37], [37, 52, 2], [39, 0, 15]],\n",
       " 'fertilizer-to-water map': [[49, 53, 8], [0, 11, 42], [42, 0, 7], [57, 7, 4]],\n",
       " 'water-to-light map': [[88, 18, 7], [18, 25, 70]],\n",
       " 'light-to-temperature map': [[45, 77, 23], [81, 45, 19], [68, 64, 13]],\n",
       " 'temperature-to-humidity map': [[0, 69, 1], [1, 0, 69]],\n",
       " 'humidity-to-location map': [[60, 56, 37], [56, 93, 4]]}"
      ]
     },
     "execution_count": 75,
     "metadata": {},
     "output_type": "execute_result"
    }
   ],
   "source": [
    "import re\n",
    "import pandas as pd\n",
    "PROD = 0\n",
    "input_data = input_day if PROD else input_test\n",
    "list_maps = [\"seed-to-soil map\", \"soil-to-fertilizer map\", \"fertilizer-to-water map\", \"water-to-light map\",\n",
    "             \"light-to-temperature map\", \"temperature-to-humidity map\", \"humidity-to-location map\", \"\"]\n",
    "dicc_maps = {\"seeds\": [int(i) for i in re.findall(r'(?<=seeds:\\s)(?=(.*\\d+))', input_data)[0].split()]}\n",
    "for pos, l in enumerate(list_maps[:-1]):\n",
    "    dicc_maps[l] = [[int(j) for j in i.split()] for i in re.findall(f'(?<={l}:\\s)([\\d\\s]+)(?={list_maps[pos + 1]})', input_data)[0].splitlines() if i]\n",
    "\n",
    "dicc_maps"
   ]
  },
  {
   "cell_type": "markdown",
   "id": "70ee9e8c-9e73-4cdb-b542-388b8ecbd1b4",
   "metadata": {
    "heading_collapsed": "true",
    "tags": []
   },
   "source": [
    "# Part 1"
   ]
  },
  {
   "cell_type": "code",
   "execution_count": 73,
   "id": "c8df3c38-fc13-4074-ae65-36967a6ade4f",
   "metadata": {},
   "outputs": [
    {
     "name": "stdout",
     "output_type": "stream",
     "text": [
      "35\n"
     ]
    }
   ],
   "source": [
    "def get_destination(value, origins):\n",
    "    for k, v in origins.items():\n",
    "        if value in k:\n",
    "            return value + v\n",
    "    return value\n",
    "\n",
    "dicc_origin_ranges = {\n",
    "    m: {\n",
    "            pd.Interval(r[1], r[1] + r[2] -1, closed=\"both\"): r[0] - r[1]\n",
    "            for r in sorted(dicc_maps[m], key=lambda x: x[1])\n",
    "    }\n",
    "    for m in list_maps[:-1]\n",
    "}\n",
    "\n",
    "location_values = []\n",
    "for value in dicc_maps[\"seeds\"]:\n",
    "    for m in list_maps[:-1]:\n",
    "        value = get_destination(value, dicc_origin_ranges[m])\n",
    "    location_values.append(value)\n",
    "print(min(location_values))"
   ]
  },
  {
   "cell_type": "markdown",
   "id": "78156a26-18df-41f6-8615-a52f18ed47c0",
   "metadata": {},
   "source": [
    "# Part 2"
   ]
  },
  {
   "cell_type": "code",
   "execution_count": 76,
   "id": "5b4d2faf-b556-4191-9516-3de502444afe",
   "metadata": {},
   "outputs": [],
   "source": [
    "dicc_origin_to_dest = {\n",
    "    m: {\n",
    "            pd.Interval(r[1], r[1] + r[2] -1, closed=\"both\"): r[0] - r[1]\n",
    "            for r in sorted(dicc_maps[m], key=lambda x: x[1])\n",
    "    }\n",
    "    for m in list_maps[:-1]\n",
    "}\n",
    "\n",
    "def get_destinations(origin_intervals, dest_intervals):\n",
    "    left_limit = min(dest_intervals).left\n",
    "    right_limit = max(dest_intervals).right\n",
    "    final_output = []\n",
    "    for origin_interval in sorted(origin_intervals):\n",
    "        \n",
    "        if not any(origin_interval.overlaps(d) for d in dest_intervals):\n",
    "            final_output.append(origin_interval)\n",
    "            continue\n",
    "        \n",
    "        o_l, o_r = origin_interval.left, origin_interval.right\n",
    "        if (o_l < left_limit) and (o_r >= left_limit):\n",
    "            final_output.append(pd.Interval(o_l, left_limit - 1, closed='both'))\n",
    "            \n",
    "        if (o_r > right_limit) and (o_l <= right_limit):\n",
    "            final_output.append(pd.Interval(right_limit + 1, o_r, closed='both'))\n",
    "        \n",
    "        for dest_interval, v in sorted(dest_intervals.items()):\n",
    "            if not origin_interval.overlaps(dest_interval):\n",
    "                continue\n",
    "            \n",
    "            d_l, d_r = dest_interval.left, dest_interval.right\n",
    "            if o_l <= d_l:\n",
    "                if d_l <= o_r:\n",
    "                    final_output.append(pd.Interval(d_l, o_r, closed=\"both\") + v)\n",
    "                else:\n",
    "                    final_output.append(pd.Interval(d_l, d_r, closed=\"both\") + v)\n",
    "            else:\n",
    "                if o_r <= d_r:\n",
    "                    final_output.append(pd.Interval(o_l, o_r, closed=\"both\") + v)\n",
    "                else:\n",
    "                    final_output.append(pd.Interval(o_l, d_r, closed=\"both\") + v)\n",
    "    return final_output\n",
    "\n",
    "locations = []\n",
    "history = []\n",
    "for i in range(0, len(dicc_maps[\"seeds\"]), 2):\n",
    "    seed_init = dicc_maps[\"seeds\"][i]\n",
    "    seed_end = dicc_maps[\"seeds\"][i + 1]\n",
    "    origin_intervals = [pd.Interval(seed_init, seed_init + seed_end-1, closed=\"both\")]\n",
    "    history.append({\"seeds\": origin_intervals})\n",
    "    for m in list_maps[:-1]:\n",
    "        origin_intervals = get_destinations(origin_intervals, dicc_origin_to_dest[m])\n",
    "        history[-1][m] = origin_intervals\n",
    "\n",
    "    locations += origin_intervals"
   ]
  },
  {
   "cell_type": "code",
   "execution_count": 77,
   "id": "11f13c7c-843d-4084-aa0d-c981c8f32f69",
   "metadata": {},
   "outputs": [
    {
     "data": {
      "text/plain": [
       "[{'seeds': [Interval(79, 92, closed='both')],\n",
       "  'seed-to-soil map': [Interval(81, 94, closed='both')],\n",
       "  'soil-to-fertilizer map': [Interval(81, 94, closed='both')],\n",
       "  'fertilizer-to-water map': [Interval(81, 94, closed='both')],\n",
       "  'water-to-light map': [Interval(74, 87, closed='both')],\n",
       "  'light-to-temperature map': [Interval(78, 80, closed='both'),\n",
       "   Interval(45, 55, closed='both')],\n",
       "  'temperature-to-humidity map': [Interval(46, 56, closed='both'),\n",
       "   Interval(78, 80, closed='both')],\n",
       "  'humidity-to-location map': [Interval(46, 55, closed='both'),\n",
       "   Interval(60, 60, closed='both'),\n",
       "   Interval(82, 84, closed='both')]},\n",
       " {'seeds': [Interval(55, 67, closed='both')],\n",
       "  'seed-to-soil map': [Interval(57, 69, closed='both')],\n",
       "  'soil-to-fertilizer map': [Interval(57, 69, closed='both')],\n",
       "  'fertilizer-to-water map': [Interval(61, 69, closed='both'),\n",
       "   Interval(53, 56, closed='both')],\n",
       "  'water-to-light map': [Interval(46, 49, closed='both'),\n",
       "   Interval(54, 62, closed='both')],\n",
       "  'light-to-temperature map': [Interval(82, 85, closed='both'),\n",
       "   Interval(90, 98, closed='both')],\n",
       "  'temperature-to-humidity map': [Interval(82, 85, closed='both'),\n",
       "   Interval(90, 98, closed='both')],\n",
       "  'humidity-to-location map': [Interval(86, 89, closed='both'),\n",
       "   Interval(97, 98, closed='both'),\n",
       "   Interval(94, 96, closed='both'),\n",
       "   Interval(56, 61, closed='both')]}]"
      ]
     },
     "execution_count": 77,
     "metadata": {},
     "output_type": "execute_result"
    }
   ],
   "source": [
    "history"
   ]
  },
  {
   "cell_type": "code",
   "execution_count": 60,
   "id": "08f00e36-240d-467c-9cc3-1316d045dea9",
   "metadata": {},
   "outputs": [
    {
     "data": {
      "text/plain": [
       "[1044452533,\n",
       " 40389941,\n",
       " 3710737290,\n",
       " 407166728,\n",
       " 1552449232,\n",
       " 639689359,\n",
       " 3327654041,\n",
       " 26912583,\n",
       " 3440484265,\n",
       " 219136668,\n",
       " 1126550158,\n",
       " 296212400,\n",
       " 2332393052,\n",
       " 229950158,\n",
       " 200575068,\n",
       " 532702401,\n",
       " 4163696272,\n",
       " 44707860,\n",
       " 3067657312,\n",
       " 45353528]"
      ]
     },
     "execution_count": 60,
     "metadata": {},
     "output_type": "execute_result"
    }
   ],
   "source": [
    "dicc_maps[\"seeds\"]"
   ]
  },
  {
   "cell_type": "code",
   "execution_count": 74,
   "id": "5ecbf671-72a7-4e91-bcaf-37df02b2c1e8",
   "metadata": {},
   "outputs": [
    {
     "data": {
      "text/plain": [
       "0"
      ]
     },
     "execution_count": 74,
     "metadata": {},
     "output_type": "execute_result"
    }
   ],
   "source": [
    "min(locations).left"
   ]
  },
  {
   "cell_type": "code",
   "execution_count": 43,
   "id": "9f8818a0-1616-4793-a357-8e90b482d6c0",
   "metadata": {},
   "outputs": [
    {
     "data": {
      "text/plain": [
       "255"
      ]
     },
     "execution_count": 43,
     "metadata": {},
     "output_type": "execute_result"
    }
   ],
   "source": [
    "len(locations)"
   ]
  },
  {
   "cell_type": "code",
   "execution_count": 71,
   "id": "c9f3d834-a7ab-4a07-811f-e82b3142d6ad",
   "metadata": {},
   "outputs": [
    {
     "name": "stdout",
     "output_type": "stream",
     "text": [
      "{'seeds': [Interval(3440484265, 3659620932, closed='both')], 'seed-to-soil map': [Interval(3241310824, 3460447491, closed='both')], 'soil-to-fertilizer map': [Interval(3241310824, 3460447491, closed='both')], 'fertilizer-to-water map': [Interval(1798279782, 1964888853, closed='both'), Interval(2318899828, 2371427423, closed='both')], 'water-to-light map': [Interval(1295122702, 1461731773, closed='both'), Interval(493194803, 510500648, closed='both'), Interval(0, 35221749, closed='both')], 'light-to-temperature map': [Interval(23531400, 58753149, closed='both'), Interval(1351062661, 1375359866, closed='both'), Interval(2477361207, 2494667052, closed='both'), Interval(1067305596, 1079941856, closed='both'), Interval(2923124195, 3077097005, closed='both'), Interval(1487998805, 1517714013, closed='both'), Interval(1079941857, 1093889924, closed='both')], 'temperature-to-humidity map': [Interval(23531400, 58753149, closed='both'), Interval(1067305596, 1079941856, closed='both'), Interval(1079941857, 1093889924, closed='both'), Interval(3066579912, 3090877117, closed='both'), Interval(3203516056, 3233231264, closed='both'), Interval(1941952815, 1959258660, closed='both'), Interval(2941559481, 2963703887, closed='both'), Interval(3338671715, 3470500118, closed='both'), Interval(1769136092, 1847295979, closed='both'), Interval(3392340231, 3405588179, closed='both')], 'humidity-to-location map': [Interval(244009039, 274550609, closed='both'), Interval(0, 4680178, closed='both'), Interval(1260160771, 1272797031, closed='both'), Interval(1272797032, 1286745099, closed='both'), Interval(1769136092, 1847295979, closed='both'), Interval(2982883489, 2993224251, closed='both'), Interval(2993224252, 3000189334, closed='both'), Interval(3747887417, 3770031823, closed='both'), Interval(3872907848, 3897205053, closed='both'), Interval(4009843992, 4039559200, closed='both'), Interval(4144999651, 4276828054, closed='both'), Interval(4198668167, 4211916115, closed='both')]} [0, 4680178]\n",
      "{'seeds': [Interval(200575068, 733277468, closed='both')], 'seed-to-soil map': [Interval(1582860670, 1946017537, closed='both'), Interval(1946017538, 2115563070, closed='both'), Interval(0, 165573721, closed='both')], 'soil-to-fertilizer map': [Interval(131659986, 297233707, closed='both'), Interval(3009827787, 3043086383, closed='both'), Interval(437054450, 766952720, closed='both'), Interval(766952721, 936498253, closed='both')], 'fertilizer-to-water map': [Interval(378986344, 419129606, closed='both'), Interval(0, 125430458, closed='both'), Interval(2084427309, 2383737517, closed='both'), Interval(1565499377, 1820633137, closed='both'), Interval(727088432, 976170522, closed='both'), Interval(2741907841, 2902906488, closed='both'), Interval(1571551047, 1675967652, closed='both'), Interval(1675967653, 1698622342, closed='both'), Interval(3072231669, 3219122511, closed='both'), Interval(669412120, 685126195, closed='both'), Interval(2128603757, 2146148277, closed='both')], 'water-to-light map': [Interval(1947728375, 2073158833, closed='both'), Interval(347509555, 418512189, closed='both'), Interval(877922246, 918065508, closed='both'), Interval(1168348022, 1184062097, closed='both'), Interval(1226024334, 1283473655, closed='both'), Interval(2238047311, 2429680079, closed='both'), Interval(1720046261, 1721591091, closed='both'), Interval(262330327, 347509554, closed='both'), Interval(1887522721, 2057477253, closed='both'), Interval(2513642263, 2623391141, closed='both'), Interval(1283473656, 1317476057, closed='both'), Interval(268381997, 347509554, closed='both'), Interval(1887522721, 1912811768, closed='both'), Interval(1912811769, 1935466458, closed='both'), Interval(1581270229, 1660679362, closed='both'), Interval(2589388740, 2809289814, closed='both'), Interval(2428135249, 2633717654, closed='both'), Interval(437957101, 558032492, closed='both'), Interval(0, 47531843, closed='both'), Interval(1625446677, 1642991197, closed='both'), Interval(2837051754, 2998050401, closed='both'), Interval(3167375582, 3197353302, closed='both'), Interval(2721738396, 2838651517, closed='both'), Interval(2641064681, 2743507604, closed='both'), Interval(2665993996, 2743507604, closed='both'), Interval(3680302736, 3720950444, closed='both')], 'light-to-temperature map': [Interval(23531400, 71063243, closed='both'), Interval(1351062661, 1387669960, closed='both'), Interval(2349905659, 2435084886, closed='both'), Interval(2355957329, 2435084886, closed='both'), Interval(2435084887, 2462387291, closed='both'), Interval(1950759356, 1994459585, closed='both'), Interval(2013904497, 2054168283, closed='both'), Interval(2462387292, 2542198896, closed='both'), Interval(1644303246, 1684446508, closed='both'), Interval(2172619534, 2188333609, closed='both'), Interval(2230295846, 2243039440, closed='both'), Interval(1010950823, 1055656549, closed='both'), Interval(1055656550, 1079941856, closed='both'), Interval(2923124195, 2932841289, closed='both'), Interval(1213428380, 1292837513, closed='both'), Interval(1257604828, 1275149348, closed='both'), Interval(1803258673, 1804803503, closed='both'), Interval(262898726, 280567723, closed='both'), Interval(1503765946, 1511385995, closed='both'), Interval(262898726, 280567723, closed='both'), Interval(1503765946, 1656051480, closed='both'), Interval(3063630615, 3091328053, closed='both'), Interval(1511385996, 1534040685, closed='both'), Interval(1546302602, 1628354041, closed='both'), Interval(3063630615, 3107009633, closed='both'), Interval(3248366711, 3439999479, closed='both'), Interval(3438454649, 3495911975, closed='both'), Interval(523464332, 671589410, closed='both'), Interval(72682795, 213152139, closed='both'), Interval(945527000, 1045933490, closed='both'), Interval(280567724, 315550391, closed='both'), Interval(93076748, 112745648, closed='both'), Interval(945527000, 1035606977, closed='both'), Interval(280567724, 305223878, closed='both'), Interval(1001604576, 1010950822, closed='both'), Interval(280567724, 491122551, closed='both'), Interval(322897418, 425340341, closed='both'), Interval(347826733, 425340341, closed='both'), Interval(403571133, 520484254, closed='both'), Interval(518884491, 523464331, closed='both'), Interval(3501210985, 3657629791, closed='both'), Interval(1854510320, 1884488040, closed='both'), Interval(752130798, 792778506, closed='both')], 'temperature-to-humidity map': [Interval(23531400, 71063243, closed='both'), Interval(72682795, 213152139, closed='both'), Interval(93076748, 112745648, closed='both'), Interval(262898726, 280567723, closed='both'), Interval(262898726, 280567723, closed='both'), Interval(280567724, 305223878, closed='both'), Interval(280567724, 314116827, closed='both'), Interval(550058871, 551492434, closed='both'), Interval(280567724, 314116827, closed='both'), Interval(550058871, 727064594, closed='both'), Interval(527818847, 674695730, closed='both'), Interval(314116828, 438753687, closed='both'), Interval(793324235, 890665856, closed='both'), Interval(357589270, 401346630, closed='both'), Interval(558839461, 580187710, closed='both'), Interval(527818847, 608913520, closed='both'), Interval(314116828, 372971477, closed='both'), Interval(793324235, 824883646, closed='both'), Interval(531399912, 550058870, closed='both'), Interval(314116828, 372971477, closed='both'), Interval(793324235, 824883646, closed='both'), Interval(803114438, 846908495, closed='both'), Interval(357589270, 430708333, closed='both'), Interval(429108570, 433688410, closed='both'), Interval(433688411, 527818846, closed='both'), Interval(764927838, 818922480, closed='both'), Interval(784962111, 818922480, closed='both'), Interval(687103615, 712701860, closed='both'), Interval(608503121, 649150829, closed='both'), Interval(945527000, 1035606977, closed='both'), Interval(945527000, 1045933490, closed='both'), Interval(1001604576, 1010950822, closed='both'), Interval(1010950823, 1055656549, closed='both'), Interval(1055656550, 1079941856, closed='both'), Interval(1213428380, 1292837513, closed='both'), Interval(1257604828, 1275149348, closed='both'), Interval(3066579912, 3103187211, closed='both'), Interval(3219283197, 3226903246, closed='both'), Interval(3219283197, 3240436816, closed='both'), Interval(3888375100, 4019507014, closed='both'), Interval(3226903247, 3240436816, closed='both'), Interval(3888375100, 3897496219, closed='both'), Interval(3909758136, 3991809575, closed='both'), Interval(4007758780, 4033760081, closed='both'), Interval(2042706894, 2056848854, closed='both'), Interval(4177985339, 4179530169, closed='both'), Interval(4229236986, 4259214706, closed='both'), Interval(2788715832, 2832416061, closed='both'), Interval(2851860973, 2885502548, closed='both'), Interval(1707764534, 1714386744, closed='both'), Interval(3287766158, 3302888454, closed='both'), Interval(3883979635, 3884571413, closed='both'), Interval(2336183569, 2348927163, closed='both'), Interval(2968738482, 2988289245, closed='both'), Interval(1834048031, 1899676494, closed='both'), Interval(2974790152, 2988289245, closed='both'), Interval(1834048031, 1899676494, closed='both'), Interval(1899676495, 1926978899, closed='both'), Interval(1926978900, 2006790504, closed='both'), Interval(2941559481, 2951276575, closed='both'), Interval(1833829589, 1834048030, closed='both'), Interval(3392340231, 3419819227, closed='both'), Interval(1833829589, 1834048030, closed='both'), Interval(3392340231, 3435500807, closed='both'), Interval(1472156624, 1523584140, closed='both'), Interval(1378206534, 1518411785, closed='both'), Interval(2018290756, 2118393773, closed='both'), Interval(2607311497, 2682998376, closed='both'), Interval(2681453546, 2738910872, closed='both'), Interval(2744209882, 2758197105, closed='both'), Interval(1523584141, 1666015723, closed='both'), Interval(3683536341, 3805281384, closed='both')], 'humidity-to-location map': [Interval(244009039, 274550609, closed='both'), Interval(0, 16990272, closed='both'), Interval(467405785, 473561617, closed='both'), Interval(475181169, 615650513, closed='both'), Interval(495575122, 515244022, closed='both'), Interval(665397100, 683066097, closed='both'), Interval(665397100, 683066097, closed='both'), Interval(683066098, 707722252, closed='both'), Interval(683066098, 716615201, closed='both'), Interval(683066098, 716615201, closed='both'), Interval(716615202, 775469851, closed='both'), Interval(716615202, 775469851, closed='both'), Interval(716615202, 841252061, closed='both'), Interval(760087644, 803845004, closed='both'), Interval(760087644, 833206707, closed='both'), Interval(831606944, 836186784, closed='both'), Interval(836186785, 867655256, closed='both'), Interval(137201536, 199863499, closed='both'), Interval(199863500, 204313375, closed='both'), Interval(10834440, 87479237, closed='both'), Interval(199863500, 204313375, closed='both'), Interval(10834440, 153261447, closed='both'), Interval(867655257, 883715168, closed='both'), Interval(203444565, 204313375, closed='both'), Interval(10834440, 28624587, closed='both'), Interval(28624588, 30058151, closed='both'), Interval(28624588, 137201535, closed='both'), Interval(867655257, 936084032, closed='both'), Interval(37405178, 58753427, closed='both'), Interval(87068838, 127716546, closed='both'), Interval(896123053, 921721298, closed='both'), Interval(973947276, 1027941918, closed='both'), Interval(993981549, 1027941918, closed='both'), Interval(1002343673, 1033903084, closed='both'), Interval(1002343673, 1033903084, closed='both'), Interval(1002343673, 1099685294, closed='both'), Interval(1012133876, 1055927933, closed='both'), Interval(1138382175, 1228462152, closed='both'), Interval(1138382175, 1238788665, closed='both'), Interval(1194459751, 1203805997, closed='both'), Interval(1203805998, 1248511724, closed='both'), Interval(1248511725, 1272797031, closed='both'), Interval(1406283555, 1485692688, closed='both'), Interval(1450460003, 1468004523, closed='both'), Interval(332621358, 467405784, closed='both'), Interval(426571448, 467405784, closed='both'), Interval(1523584141, 1666015723, closed='both'), Interval(1707764534, 1714386744, closed='both'), Interval(1833829589, 1834048030, closed='both'), Interval(1833829589, 1834048030, closed='both'), Interval(1834048031, 1899676494, closed='both'), Interval(1834048031, 1899676494, closed='both'), Interval(1899676495, 1926978899, closed='both'), Interval(2975037529, 3047721178, closed='both'), Interval(2993224252, 3047721178, closed='both'), Interval(3059221430, 3159324447, closed='both'), Interval(3083637568, 3097779528, closed='both'), Interval(2329838394, 2342581988, closed='both'), Interval(3413639433, 3489326312, closed='both'), Interval(3487781482, 3545238808, closed='both'), Interval(3550537818, 3564525041, closed='both'), Interval(3595043768, 3638743997, closed='both'), Interval(3658188909, 3691830484, closed='both'), Interval(3747887417, 3757604511, closed='both'), Interval(3775066418, 3794617181, closed='both'), Interval(3781118088, 3794617181, closed='both'), Interval(3872907848, 3909515147, closed='both'), Interval(4025611133, 4033231182, closed='both'), Interval(4025611133, 4046764752, closed='both'), Interval(4033231183, 4046764752, closed='both'), Interval(4094094094, 4109216390, closed='both'), Interval(4198668167, 4226147163, closed='both'), Interval(4198668167, 4241828743, closed='both'), Interval(2129003836, 2250748879, closed='both'), Interval(2518728752, 2519320530, closed='both'), Interval(2523124217, 2532245336, closed='both'), Interval(2523124217, 2613787394, closed='both'), Interval(2613787395, 2654256131, closed='both'), Interval(2544507253, 2613787394, closed='both'), Interval(2613787395, 2626558692, closed='both'), Interval(2642507897, 2668509198, closed='both'), Interval(2812734456, 2814279286, closed='both'), Interval(2863986103, 2893963823, closed='both')]} [0, 16990272]\n"
     ]
    }
   ],
   "source": [
    "for h in history:\n",
    "    for pos, i in enumerate(h[\"humidity-to-location map\"]):\n",
    "        if i.left==0:\n",
    "            print(h, i)"
   ]
  },
  {
   "cell_type": "code",
   "execution_count": 68,
   "id": "8c7d6619-4d09-4c2d-97d4-8f0c18e7aa8f",
   "metadata": {},
   "outputs": [
    {
     "data": {
      "text/plain": [
       "{'seed-to-soil map': {Interval(0, 3525157, closed='both'): 1949989349,\n",
       "  Interval(3525158, 563731935, closed='both'): 1382285602,\n",
       "  Interval(563731936, 567703746, closed='both'): 1382285602,\n",
       "  Interval(567703747, 1470577054, closed='both'): -567703747,\n",
       "  Interval(1470577055, 1532707248, closed='both'): -567703747,\n",
       "  Interval(1532707249, 1653302078, closed='both'): 618997525,\n",
       "  Interval(1653302079, 1808056937, closed='both'): 2451323959,\n",
       "  Interval(1808056938, 2006247204, closed='both'): 145457569,\n",
       "  Interval(2006247205, 2115309655, closed='both'): 1714863691,\n",
       "  Interval(2115309656, 2389762346, closed='both'): 1714863691,\n",
       "  Interval(2389762347, 2406371823, closed='both'): -1424758845,\n",
       "  Interval(2406371824, 2471473044, closed='both'): -1424758845,\n",
       "  Interval(2471473045, 3920284336, closed='both'): -199173441,\n",
       "  Interval(3920284337, 4259380896, closed='both'): -2873570137},\n",
       " 'soil-to-fertilizer map': {Interval(0, 297180571, closed='both'): 131659986,\n",
       "  Interval(297180572, 342253284, closed='both'): -210593299,\n",
       "  Interval(342253285, 428840557, closed='both'): -342253285,\n",
       "  Interval(437054450, 597853134, closed='both'): 1959697457,\n",
       "  Interval(597853135, 721628468, closed='both'): 1959697457,\n",
       "  Interval(721628469, 1215510441, closed='both'): 1181241465,\n",
       "  Interval(1215510442, 1254358808, closed='both'): 1827575942,\n",
       "  Interval(1254358809, 1278266568, closed='both'): 1426967117,\n",
       "  Interval(1278266569, 1616119266, closed='both'): 1426967117,\n",
       "  Interval(1616119267, 2761968867, closed='both'): -1179064817,\n",
       "  Interval(2761968868, 3081934750, closed='both'): -1179064817},\n",
       " 'fertilizer-to-water map': {Interval(0, 171803248, closed='both'): 247326358,\n",
       "  Interval(171803249, 419129606, closed='both'): -171803249,\n",
       "  Interval(467642512, 511818959, closed='both'): 1616784797,\n",
       "  Interval(511818960, 517870629, closed='both'): 1053680417,\n",
       "  Interval(517870630, 605954072, closed='both'): 209217802,\n",
       "  Interval(605954073, 662536114, closed='both'): 2135953768,\n",
       "  Interval(662536115, 789607410, closed='both'): 909014932,\n",
       "  Interval(789607411, 943979159, closed='both'): 2282624258,\n",
       "  Interval(943979160, 1018163708, closed='both'): 754643183,\n",
       "  Interval(1018163709, 1602454668, closed='both'): -36955292,\n",
       "  Interval(1602454669, 1651737020, closed='both'): 1655939489,\n",
       "  Interval(1651737021, 1867513591, closed='both'): 874394249,\n",
       "  Interval(1867513592, 1868028184, closed='both'): 1475966615,\n",
       "  Interval(1868028185, 1987566639, closed='both'): 96860669,\n",
       "  Interval(1987566640, 2025133390, closed='both'): -1172394765,\n",
       "  Interval(2025133391, 2067095626, closed='both'): -1340007195,\n",
       "  Interval(2067095627, 2075919097, closed='both'): -1214357001,\n",
       "  Interval(2075919098, 2189746696, closed='both'): 882484972,\n",
       "  Interval(2189746697, 2310334852, closed='both'): 648069217,\n",
       "  Interval(2310334853, 2334984927, closed='both'): 502830986,\n",
       "  Interval(2334984928, 2366487873, closed='both'): 972691582,\n",
       "  Interval(2366487874, 2589503757, closed='both'): 1705463538,\n",
       "  Interval(2589503758, 2803757427, closed='both'): 1268193984,\n",
       "  Interval(2803757428, 2808058178, closed='both'): 535422028,\n",
       "  Interval(2808058179, 3025541862, closed='both'): -2340415667,\n",
       "  Interval(3025541863, 3215837933, closed='both'): -896938106,\n",
       "  Interval(3215837934, 3407919895, closed='both'): -1443031042,\n",
       "  Interval(3407919896, 3615151337, closed='both'): -1089020068,\n",
       "  Interval(3615151338, 3631167459, closed='both'): -2753589241,\n",
       "  Interval(3631167460, 3734797657, closed='both'): -2753589241,\n",
       "  Interval(3734797658, 3749473613, closed='both'): -936307775,\n",
       "  Interval(3749473614, 3912939964, closed='both'): -55242223,\n",
       "  Interval(3912939965, 3944730704, closed='both'): -686336547,\n",
       "  Interval(3944730705, 4294967295, closed='both'): -600735905},\n",
       " 'water-to-light map': {Interval(0, 54427823, closed='both'): 1947728375,\n",
       "  Interval(54427824, 144875369, closed='both'): 293081731,\n",
       "  Interval(144875370, 784537753, closed='both'): 498935902,\n",
       "  Interval(784537754, 974625691, closed='both'): 1453509557,\n",
       "  Interval(974625692, 1142102151, closed='both'): 745420569,\n",
       "  Interval(1142102152, 1208294505, closed='both'): 1029752805,\n",
       "  Interval(1208294506, 1341605128, closed='both'): -697793857,\n",
       "  Interval(1341605129, 1511303886, closed='both'): 660551070,\n",
       "  Interval(1511303887, 1650678604, closed='both'): -1303169050,\n",
       "  Interval(1650678605, 1710884258, closed='both'): 236844116,\n",
       "  Interval(1710884259, 1786630735, closed='both'): 802758004,\n",
       "  Interval(1786630736, 2163836442, closed='both'): -503157080,\n",
       "  Interval(2163836443, 2178155111, closed='both'): 425552297,\n",
       "  Interval(2178155112, 2263662125, closed='both'): 249980137,\n",
       "  Interval(2263662126, 2336205673, closed='both'): -1825705025,\n",
       "  Interval(2336205674, 2544340510, closed='both'): -2336205674,\n",
       "  Interval(2544340511, 2591737737, closed='both'): -871691477,\n",
       "  Interval(2591737738, 2603707408, closed='both'): -931058375,\n",
       "  Interval(2641064681, 3102209389, closed='both'): 95143913,\n",
       "  Interval(3102209390, 3116679587, closed='both'): -380470994,\n",
       "  Interval(3116679588, 3141608902, closed='both'): -475614907,\n",
       "  Interval(3141608903, 3178474802, closed='both'): -475614907,\n",
       "  Interval(3178474803, 3220207965, closed='both'): 501827933,\n",
       "  Interval(3220207966, 3468908450, closed='both'): 587568657,\n",
       "  Interval(3468908451, 3487786950, closed='both'): -766048555,\n",
       "  Interval(3487786951, 3563548227, closed='both'): 731419068,\n",
       "  Interval(3563548228, 3726277138, closed='both'): 492928880,\n",
       "  Interval(3726277139, 3812017862, closed='both'): -4241240,\n",
       "  Interval(3812017863, 4064611746, closed='both'): -384309011,\n",
       "  Interval(4064611747, 4294967295, closed='both'): -867258444},\n",
       " 'light-to-temperature map': {Interval(0, 10924543, closed='both'): 23531400,\n",
       "  Interval(10924544, 147860687, closed='both'): 1340138117,\n",
       "  Interval(147860688, 233330629, closed='both'): -35115039,\n",
       "  Interval(233330630, 374811959, closed='both'): 2087575332,\n",
       "  Interval(374811960, 478220887, closed='both'): 1575947396,\n",
       "  Interval(478220888, 836860032, closed='both'): 1984166404,\n",
       "  Interval(836860033, 855650394, closed='both'): 1465255567,\n",
       "  Interval(855650395, 867706664, closed='both'): -821194451,\n",
       "  Interval(867706665, 983721221, closed='both'): 766381000,\n",
       "  Interval(983721222, 1079719373, closed='both'): 1843404821,\n",
       "  Interval(1079719374, 1085452996, closed='both'): 548634668,\n",
       "  Interval(1085452997, 1238767928, closed='both'): 1004271512,\n",
       "  Interval(1238767929, 1307758962, closed='both'): -227817106,\n",
       "  Interval(1307758963, 1432016564, closed='both'): 1615365232,\n",
       "  Interval(1432016565, 1447783705, closed='both'): 55982240,\n",
       "  Interval(1447783706, 1666889809, closed='both'): -367841849,\n",
       "  Interval(1666889810, 1758723046, closed='both'): 83212412,\n",
       "  Interval(1758723047, 1764022055, closed='both'): 1737188929,\n",
       "  Interval(1764022056, 1822839585, closed='both'): -877312586,\n",
       "  Interval(1822839586, 1905191718, closed='both'): -1624623995,\n",
       "  Interval(1905191719, 2029779814, closed='both'): -401425773,\n",
       "  Interval(2029779815, 2185455229, closed='both'): 1033850800,\n",
       "  Interval(2185455230, 2208986629, closed='both'): -2185455230,\n",
       "  Interval(2208986630, 2485592575, closed='both'): 1010319400,\n",
       "  Interval(2485592576, 2493248309, closed='both'): -1962128244,\n",
       "  Interval(2493248310, 2533311163, closed='both'): -2420565515,\n",
       "  Interval(2533311164, 2598734986, closed='both'): -1587784164,\n",
       "  Interval(2598734987, 2841631594, closed='both'): -2318167263,\n",
       "  Interval(2841631595, 3154800720, closed='both'): 659579390,\n",
       "  Interval(3154800721, 3263624617, closed='both'): -1312865262,\n",
       "  Interval(3263624618, 3322700776, closed='both'): -1020585177,\n",
       "  Interval(3322700777, 3323202073, closed='both'): 491679334,\n",
       "  Interval(3323202074, 3349372654, closed='both'): -3276689860,\n",
       "  Interval(3349372655, 3384928879, closed='both'): -1295204371,\n",
       "  Interval(3384928880, 3401177697, closed='both'): -337547083,\n",
       "  Interval(3401177698, 3445760860, closed='both'): -2094698200,\n",
       "  Interval(3445760861, 3451860466, closed='both'): -624734424,\n",
       "  Interval(3451860467, 3459292003, closed='both'): -2152812506,\n",
       "  Interval(3459292004, 3814881407, closed='both'): -2928171938,\n",
       "  Interval(4150271912, 4167070462, closed='both'): 127896833,\n",
       "  Interval(4167070463, 4174249169, closed='both'): 49225675,\n",
       "  Interval(4174249170, 4228943069, closed='both'): 49225675,\n",
       "  Interval(4228943070, 4294967295, closed='both'): -78671158},\n",
       " 'temperature-to-humidity map': {Interval(314116828, 344245667, closed='both'): 235942043,\n",
       "  Interval(344245668, 366485691, closed='both'): 183573179,\n",
       "  Interval(366485692, 393780929, closed='both'): -52368864,\n",
       "  Interval(393780930, 447365190, closed='both'): 399543305,\n",
       "  Interval(447365191, 617594767, closed='both'): -89775921,\n",
       "  Interval(617594768, 637629040, closed='both'): 147333070,\n",
       "  Interval(637629041, 645991164, closed='both'): 147333070,\n",
       "  Interval(645991165, 723815387, closed='both'): 41112450,\n",
       "  Interval(723815388, 830731291, closed='both'): -143627677,\n",
       "  Interval(830731292, 846908495, closed='both'): -489319226,\n",
       "  Interval(1346451950, 1524919565, closed='both'): 1715517251,\n",
       "  Interval(1524919566, 1670304547, closed='both'): 2363455534,\n",
       "  Interval(1670304548, 1782957734, closed='both'): 372402346,\n",
       "  Interval(1782957735, 1920240629, closed='both'): 2374726666,\n",
       "  Interval(1920240630, 2047546072, closed='both'): 837956476,\n",
       "  Interval(2047546073, 2108917630, closed='both'): -339781539,\n",
       "  Interval(2108917631, 2142598134, closed='both'): 879371615,\n",
       "  Interval(2142598135, 2187741830, closed='both'): 1115146624,\n",
       "  Interval(2187741831, 2192137295, closed='both'): 1696237804,\n",
       "  Interval(2192137296, 2209445237, closed='both'): 1048299521,\n",
       "  Interval(2209445238, 2227115481, closed='both'): -791136470,\n",
       "  Interval(2227115482, 2306156721, closed='both'): 105887723,\n",
       "  Interval(2306156722, 2341939981, closed='both'): 996731733,\n",
       "  Interval(2341939982, 2344871064, closed='both'): 1812813336,\n",
       "  Interval(2344871065, 2369456422, closed='both'): 618832823,\n",
       "  Interval(2369456423, 2553699147, closed='both'): -535408392,\n",
       "  Interval(2553699148, 2641656158, closed='both'): -90139891,\n",
       "  Interval(2641656159, 2811272033, closed='both'): 807509851,\n",
       "  Interval(2811272034, 2867067262, closed='both'): -259755766,\n",
       "  Interval(2867067263, 2945268601, closed='both'): 18435286,\n",
       "  Interval(2945268602, 2998937117, closed='both'): 393403113,\n",
       "  Interval(2998937118, 3063849056, closed='both'): -1229801026,\n",
       "  Interval(3063849057, 3120674835, closed='both'): 328491174,\n",
       "  Interval(3120674836, 3172189647, closed='both'): -708630391,\n",
       "  Interval(3172189648, 3212189098, closed='both'): -150219898,\n",
       "  Interval(3212189099, 3299794227, closed='both'): -1776210087,\n",
       "  Interval(3299794228, 3339896461, closed='both'): -1921587694,\n",
       "  Interval(3339896462, 3364312599, closed='both'): -1321605706,\n",
       "  Interval(3364312600, 3515198208, closed='both'): -757001103,\n",
       "  Interval(3515198209, 3535884747, closed='both'): -1991614068,\n",
       "  Interval(3535884748, 3736328041, closed='both'): 147651593,\n",
       "  Interval(3736328042, 3857321277, closed='both'): 297432040,\n",
       "  Interval(3857321278, 4020815131, closed='both'): -2313050598,\n",
       "  Interval(4020815132, 4085569587, closed='both'): -402033247,\n",
       "  Interval(4085569588, 4117324171, closed='both'): -2739117638,\n",
       "  Interval(4117324172, 4294967295, closed='both'): -1961964091},\n",
       " 'humidity-to-location map': {Interval(0, 54072970, closed='both'): 220477639,\n",
       "  Interval(54072971, 64907410, closed='both'): -54072971,\n",
       "  Interval(64907411, 465156882, closed='both'): 402498374,\n",
       "  Interval(465156883, 532268722, closed='both'): -327955347,\n",
       "  Interval(532268723, 658635818, closed='both'): -521434283,\n",
       "  Interval(658635819, 910155664, closed='both'): 209019438,\n",
       "  Interval(910155665, 926319927, closed='both'): -705842289,\n",
       "  Interval(926319928, 1320135785, closed='both'): 192855175,\n",
       "  Interval(1320135786, 1512990960, closed='both'): -1045585176,\n",
       "  Interval(1934106855, 1952293577, closed='both'): 1040930674,\n",
       "  Interval(1952293578, 2295914329, closed='both'): 1040930674,\n",
       "  Interval(2295914330, 2428389220, closed='both'): -6345175,\n",
       "  Interval(2428389221, 2499280922, closed='both'): -6345175,\n",
       "  Interval(2499280923, 2531121080, closed='both'): 430435490,\n",
       "  Interval(2531121081, 3488639359, closed='both'): 806327936,\n",
       "  Interval(3488639360, 3844101659, closed='both'): -1554532505,\n",
       "  Interval(3844101660, 3857582617, closed='both'): -882545089,\n",
       "  Interval(3857582618, 3858186630, closed='both'): -520737614,\n",
       "  Interval(3858186631, 3979038277, closed='both'): -1365250883,\n",
       "  Interval(3979038278, 4294967295, closed='both'): -1365250883}}"
      ]
     },
     "execution_count": 68,
     "metadata": {},
     "output_type": "execute_result"
    }
   ],
   "source": [
    "dicc_origin_to_dest"
   ]
  },
  {
   "cell_type": "code",
   "execution_count": 13,
   "id": "bc75fe2a-6447-4b85-82fd-bd4c70166d9b",
   "metadata": {},
   "outputs": [
    {
     "data": {
      "text/plain": [
       "0"
      ]
     },
     "execution_count": 13,
     "metadata": {},
     "output_type": "execute_result"
    }
   ],
   "source": [
    "min(dicc_origin_to_dest[\"seed-to-soil map\"]).left"
   ]
  },
  {
   "cell_type": "code",
   "execution_count": 14,
   "id": "ee736ad3-5adb-4cb3-b66f-7a2e6a934c10",
   "metadata": {},
   "outputs": [
    {
     "data": {
      "text/plain": [
       "4259380896"
      ]
     },
     "execution_count": 14,
     "metadata": {},
     "output_type": "execute_result"
    }
   ],
   "source": [
    "max(dicc_origin_to_dest[\"seed-to-soil map\"]).right"
   ]
  },
  {
   "cell_type": "code",
   "execution_count": null,
   "id": "26e4a092-1f5a-4615-8740-4492adf94ffe",
   "metadata": {},
   "outputs": [],
   "source": [
    "#Too high\n",
    "2784810021\n",
    "1457768254\n",
    "\n",
    "#too low\n",
    "405301"
   ]
  }
 ],
 "metadata": {
  "kernelspec": {
   "display_name": "Python 3 (ipykernel)",
   "language": "python",
   "name": "python3"
  },
  "language_info": {
   "codemirror_mode": {
    "name": "ipython",
    "version": 3
   },
   "file_extension": ".py",
   "mimetype": "text/x-python",
   "name": "python",
   "nbconvert_exporter": "python",
   "pygments_lexer": "ipython3",
   "version": "3.10.6"
  },
  "widgets": {
   "application/vnd.jupyter.widget-state+json": {
    "state": {},
    "version_major": 2,
    "version_minor": 0
   }
  }
 },
 "nbformat": 4,
 "nbformat_minor": 5
}
