{
 "cells": [
  {
   "cell_type": "markdown",
   "id": "01505416",
   "metadata": {
    "toc": true
   },
   "source": [
    "https://adventofcode.com/2023/day/9"
   ]
  },
  {
   "cell_type": "code",
   "execution_count": 1,
   "id": "4d5b9220-5678-48e1-a976-708bd6bb06fe",
   "metadata": {},
   "outputs": [
    {
     "name": "stdout",
     "output_type": "stream",
     "text": [
      "10 20 37 71 136 258 493 972 2001 4255 9116 19216 39257 77191 145854 265159 464964 788742 1298191 2078933 3247462\n",
      "28 53 92 163 312 639 1336 2734 5353 9946 17525 29354 46891 71658 105015 147811 199882 259363 321778 378869 417122\n",
      "10 18 38 85 184 373 706 1256 2118 3412 5286 7919 11524 16351 22690 30874 41282 54342 70534 90393 114512\n",
      "13 28 45 59 57 23 -46 -115 -83 238 1123 2895 5825 9945 14744 18713 18701 9040 -19607 -81725 -198807\n",
      "9 5 1 -3 -7 -11 -15 -19 -23 -27 -31 -35 -39 -43 -47 -51 -55 -59 -63 -\n"
     ]
    }
   ],
   "source": [
    "import pandas as pd\n",
    "\n",
    "input_test = \"\"\"0 3 6 9 12 15\n",
    "1 3 6 10 15 21\n",
    "10 13 16 21 30 45\n",
    "\"\"\"\n",
    "\n",
    "input_test_2 = \"\"\"9 5 1 -3 -7 -11 -15 -19 -23 -27 -31 -35 -39 -43 -47 -51 -55 -59 -63 -67 -71\"\"\"\n",
    "\n",
    "with open('data/day_9.txt') as txtfile:\n",
    "    input_day = txtfile.read()\n",
    "    \n",
    "PROD = 1\n",
    "input_data = input_day if PROD else input_test\n",
    "print(input_data[0:500])"
   ]
  },
  {
   "cell_type": "markdown",
   "id": "ddc31ecb-50c3-4361-90e5-a8b552328cb2",
   "metadata": {},
   "source": [
    "# Part 1"
   ]
  },
  {
   "cell_type": "code",
   "execution_count": 2,
   "id": "871f53b6-357e-465c-8b8b-48cdf66075a3",
   "metadata": {},
   "outputs": [
    {
     "name": "stdout",
     "output_type": "stream",
     "text": [
      "1853145119.0\n"
     ]
    }
   ],
   "source": [
    "series = [[int(n) for n in s.split()] for s in input_data.splitlines()]\n",
    "rta = 0\n",
    "for serie in series:\n",
    "    diff = pd.Series(serie).diff().dropna()\n",
    "    last_rows_sum = diff.iloc[-1] + serie[-1]\n",
    "    while not diff.eq(0).all():\n",
    "        diff = diff.diff().dropna()\n",
    "        last_rows_sum += diff.iloc[-1]\n",
    "\n",
    "    rta += last_rows_sum\n",
    "print(rta)"
   ]
  },
  {
   "cell_type": "markdown",
   "id": "012517f8-6512-4d75-a1d5-ddb84b0f73e3",
   "metadata": {},
   "source": [
    "# Part 2"
   ]
  },
  {
   "cell_type": "code",
   "execution_count": 6,
   "id": "15113489-ef46-4449-a840-1d887cb21191",
   "metadata": {},
   "outputs": [
    {
     "name": "stdout",
     "output_type": "stream",
     "text": [
      "923.0\n"
     ]
    }
   ],
   "source": [
    "series = [[int(n) for n in s.split()] for s in input_data.splitlines()]\n",
    "rta = 0\n",
    "for serie in series:\n",
    "    diff = pd.Series(serie).diff().dropna()\n",
    "    first_rows_sum = serie[0] - diff.iloc[0]\n",
    "    i = 0\n",
    "    while not diff.eq(0).all():\n",
    "        diff = diff.diff().dropna()\n",
    "        first_rows_sum += ((-1) ** i) * diff.iloc[0]\n",
    "        i += 1\n",
    "\n",
    "    rta += first_rows_sum\n",
    "print(rta)"
   ]
  }
 ],
 "metadata": {
  "kernelspec": {
   "display_name": "Python 3 (ipykernel)",
   "language": "python",
   "name": "python3"
  },
  "language_info": {
   "codemirror_mode": {
    "name": "ipython",
    "version": 3
   },
   "file_extension": ".py",
   "mimetype": "text/x-python",
   "name": "python",
   "nbconvert_exporter": "python",
   "pygments_lexer": "ipython3",
   "version": "3.10.6"
  },
  "toc": {
   "base_numbering": 1,
   "nav_menu": {},
   "number_sections": true,
   "sideBar": true,
   "skip_h1_title": false,
   "title_cell": "Table of Contents",
   "title_sidebar": "Contents",
   "toc_cell": true,
   "toc_position": {},
   "toc_section_display": true,
   "toc_window_display": false
  },
  "varInspector": {
   "cols": {
    "lenName": 16,
    "lenType": 16,
    "lenVar": 40
   },
   "kernels_config": {
    "python": {
     "delete_cmd_postfix": "",
     "delete_cmd_prefix": "del ",
     "library": "var_list.py",
     "varRefreshCmd": "print(var_dic_list())"
    },
    "r": {
     "delete_cmd_postfix": ") ",
     "delete_cmd_prefix": "rm(",
     "library": "var_list.r",
     "varRefreshCmd": "cat(var_dic_list()) "
    }
   },
   "types_to_exclude": [
    "module",
    "function",
    "builtin_function_or_method",
    "instance",
    "_Feature"
   ],
   "window_display": false
  }
 },
 "nbformat": 4,
 "nbformat_minor": 5
}
