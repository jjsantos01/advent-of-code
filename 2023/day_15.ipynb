{
 "cells": [
  {
   "cell_type": "markdown",
   "id": "86d8f92d-45fd-4b12-80d0-eeec83467cb9",
   "metadata": {},
   "source": [
    "https://adventofcode.com/2023/day/15"
   ]
  },
  {
   "cell_type": "code",
   "execution_count": 39,
   "id": "b1736015-0a0b-4cf7-8fe9-4609a16b5a1d",
   "metadata": {},
   "outputs": [],
   "source": [
    "import re\n",
    "\n",
    "input_test = [\"\"\"HASH\"\"\",\n",
    "              \"\"\"rn=1,cm-,qp=3,cm=2,qp-,pc=4,ot=9,ab=5,pc-,pc=6,ot=7\"\"\",\n",
    "              \"\"\"TGIF\"\"\"\n",
    "             ]\n",
    "\n",
    "with open('data/day_15.txt') as txtfile:\n",
    "    input_day = txtfile.read()\n",
    "\n",
    "def get_data(prod=0, test_number=0):\n",
    "    input_data = input_day if prod else input_test[test_number]\n",
    "    return input_data"
   ]
  },
  {
   "cell_type": "code",
   "execution_count": 102,
   "id": "39e8bb0e-f4ab-4626-898a-f748d73564ab",
   "metadata": {},
   "outputs": [
    {
     "data": {
      "text/plain": [
       "['qkm-',\n",
       " 'qtn-',\n",
       " 'msc=8',\n",
       " 'mfhk-',\n",
       " 'hk=6',\n",
       " 'tgp=9',\n",
       " 'grnfm-',\n",
       " 'gp=5',\n",
       " 'mm-',\n",
       " 'rxh=5']"
      ]
     },
     "execution_count": 102,
     "metadata": {},
     "output_type": "execute_result"
    }
   ],
   "source": [
    "data = get_data(prod=1, test_number=0).strip(\"\\n\").split(\",\")\n",
    "data[:10]"
   ]
  },
  {
   "cell_type": "markdown",
   "id": "49feb99c-8a17-41d2-acdf-b55aacb05f72",
   "metadata": {},
   "source": [
    "# Part 1"
   ]
  },
  {
   "cell_type": "code",
   "execution_count": 115,
   "id": "a0e0bd3e-5c63-47b9-b720-ba609c11256c",
   "metadata": {},
   "outputs": [
    {
     "data": {
      "text/plain": [
       "509784"
      ]
     },
     "execution_count": 115,
     "metadata": {},
     "output_type": "execute_result"
    }
   ],
   "source": [
    "def hash(w):\n",
    "    value = 0\n",
    "    for l in w:\n",
    "        value = ((value + ord(l)) * 17) % 256\n",
    "    return value\n",
    "\n",
    "sum(hash(w) for w in data)"
   ]
  },
  {
   "cell_type": "markdown",
   "id": "9697a6de-2c2a-441e-8c9d-90920b9fa3a6",
   "metadata": {},
   "source": [
    "# Part 2"
   ]
  },
  {
   "cell_type": "code",
   "execution_count": 133,
   "id": "07b5cf9a-79fb-47bb-89ad-fe6035fa6c2d",
   "metadata": {},
   "outputs": [
    {
     "data": {
      "text/plain": [
       "230197"
      ]
     },
     "execution_count": 133,
     "metadata": {},
     "output_type": "execute_result"
    }
   ],
   "source": [
    "boxes = {i:{} for i in range(len(data))}\n",
    "for d in data:\n",
    "    label = re.findall(\"[a-zA-Z]+\", d)[0]\n",
    "    value = re.findall(\"\\d\", d)\n",
    "    box = hash(label)\n",
    "    if value:\n",
    "        boxes[box].update({label: value[0]})\n",
    "    else:\n",
    "        if boxes[box].get(label): boxes[box].pop(label)\n",
    "        \n",
    "sum([(box_n + 1) * pos * int(l)\n",
    "     for box_n, lens in boxes.items()\n",
    "     for pos, l in enumerate(lens.values(), start=1)])\n"
   ]
  },
  {
   "cell_type": "code",
   "execution_count": 79,
   "id": "345a08c6-538b-49ac-8588-f0e4b702d0a5",
   "metadata": {},
   "outputs": [
    {
     "data": {
      "text/plain": [
       "['1']"
      ]
     },
     "execution_count": 79,
     "metadata": {},
     "output_type": "execute_result"
    }
   ],
   "source": [
    "re.findall(\"\\d\", data[0])\n"
   ]
  }
 ],
 "metadata": {
  "kernelspec": {
   "display_name": "Python 3 (ipykernel)",
   "language": "python",
   "name": "python3"
  },
  "language_info": {
   "codemirror_mode": {
    "name": "ipython",
    "version": 3
   },
   "file_extension": ".py",
   "mimetype": "text/x-python",
   "name": "python",
   "nbconvert_exporter": "python",
   "pygments_lexer": "ipython3",
   "version": "3.10.6"
  },
  "widgets": {
   "application/vnd.jupyter.widget-state+json": {
    "state": {},
    "version_major": 2,
    "version_minor": 0
   }
  }
 },
 "nbformat": 4,
 "nbformat_minor": 5
}
