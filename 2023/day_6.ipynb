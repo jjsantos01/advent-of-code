{
 "cells": [
  {
   "cell_type": "markdown",
   "id": "172d5e54-fae4-4890-ba5b-aaf2ef52d53f",
   "metadata": {},
   "source": [
    "https://adventofcode.com/2023/day/6"
   ]
  },
  {
   "cell_type": "code",
   "execution_count": 113,
   "id": "0da3a2e1-63e6-42e8-9e4d-63eb8df7ec1f",
   "metadata": {},
   "outputs": [],
   "source": [
    "import re\n",
    "import numpy as np"
   ]
  },
  {
   "cell_type": "code",
   "execution_count": 105,
   "id": "01b531f2-ff26-486f-ab93-7629d0cd266b",
   "metadata": {},
   "outputs": [
    {
     "name": "stdout",
     "output_type": "stream",
     "text": [
      "Time:        35     69     68     87\n",
      "Distance:   213   1168   1086   1248\n",
      "\n"
     ]
    }
   ],
   "source": [
    "input_test = \"\"\"Time:      7  15   30\n",
    "Distance:  9  40  200\n",
    "\"\"\"\n",
    "\n",
    "with open('data/day_6.txt') as txtfile:\n",
    "    input_day = txtfile.read()\n",
    "    \n",
    "PROD = 1\n",
    "input_data = input_day if PROD else input_test\n",
    "times = [int(i.strip()) for i in re.findall(\"(?<=Time:).*\\d+\", input_data)[0].split()]\n",
    "distances = [int(i.strip()) for i in re.findall(\"(?<=Distance:).*\\d+\", input_data)[0].split()]\n",
    "print(input_data)"
   ]
  },
  {
   "cell_type": "markdown",
   "id": "28089467-2c06-4a34-b767-d674257cfaf2",
   "metadata": {},
   "source": [
    "# Part 1"
   ]
  },
  {
   "cell_type": "code",
   "execution_count": 111,
   "id": "41f3599e-a8b8-478c-a95e-910090f0b14c",
   "metadata": {},
   "outputs": [
    {
     "data": {
      "text/plain": [
       "170000"
      ]
     },
     "execution_count": 111,
     "metadata": {},
     "output_type": "execute_result"
    }
   ],
   "source": [
    "wins = 1\n",
    "for t, d in zip(times, distances):\n",
    "    press = np.arange(0, t + 1)\n",
    "    wins *= ((t - press) * press > d).sum()\n",
    "\n",
    "wins"
   ]
  },
  {
   "cell_type": "markdown",
   "id": "fa5457b3-0c73-4474-b9a3-ee28d3162bc8",
   "metadata": {},
   "source": [
    "# Part 2"
   ]
  },
  {
   "cell_type": "code",
   "execution_count": 112,
   "id": "47f90468-8aaa-4d27-91ca-1be3ca088ec4",
   "metadata": {},
   "outputs": [
    {
     "name": "stdout",
     "output_type": "stream",
     "text": [
      "20537782\n"
     ]
    }
   ],
   "source": [
    "t = int(''.join(map(str, times)))\n",
    "d = int(''.join(map(str, distances)))\n",
    "press = np.arange(0, t + 1, dtype='int64')\n",
    "wins = (((t - press) * press) > d).sum()\n",
    "print(wins)"
   ]
  }
 ],
 "metadata": {
  "kernelspec": {
   "display_name": "Python 3 (ipykernel)",
   "language": "python",
   "name": "python3"
  },
  "language_info": {
   "codemirror_mode": {
    "name": "ipython",
    "version": 3
   },
   "file_extension": ".py",
   "mimetype": "text/x-python",
   "name": "python",
   "nbconvert_exporter": "python",
   "pygments_lexer": "ipython3",
   "version": "3.10.6"
  },
  "widgets": {
   "application/vnd.jupyter.widget-state+json": {
    "state": {},
    "version_major": 2,
    "version_minor": 0
   }
  }
 },
 "nbformat": 4,
 "nbformat_minor": 5
}
