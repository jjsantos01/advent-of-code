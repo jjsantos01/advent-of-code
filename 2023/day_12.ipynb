{
 "cells": [
  {
   "cell_type": "markdown",
   "id": "7051b082",
   "metadata": {
    "tags": [],
    "toc": true
   },
   "source": [
    "https://adventofcode.com/2023/day/12"
   ]
  },
  {
   "cell_type": "code",
   "execution_count": 1,
   "id": "493d6ccf",
   "metadata": {},
   "outputs": [],
   "source": [
    "import re"
   ]
  },
  {
   "cell_type": "code",
   "execution_count": 2,
   "id": "def029f6",
   "metadata": {
    "scrolled": true
   },
   "outputs": [
    {
     "name": "stdout",
     "output_type": "stream",
     "text": [
      "???.### 1,1,3\n",
      ".??..??...?##. 1,1,3\n",
      "?#?#?#?#?#?#?#? 1,3,1,6\n",
      "????.#...#... 4,1,1\n",
      "????.######..#####. 1,6,5\n",
      "?###???????? 3,2,1\n"
     ]
    }
   ],
   "source": [
    "input_test = \"\"\"???.### 1,1,3\n",
    ".??..??...?##. 1,1,3\n",
    "?#?#?#?#?#?#?#? 1,3,1,6\n",
    "????.#...#... 4,1,1\n",
    "????.######..#####. 1,6,5\n",
    "?###???????? 3,2,1\"\"\"\n",
    "\n",
    "with open('data/day_12.txt') as txtfile:\n",
    "    input_day = txtfile.read()\n",
    "    \n",
    "PROD = 0\n",
    "input_data = input_day if PROD else input_test\n",
    "print(input_data[0:200])"
   ]
  },
  {
   "cell_type": "code",
   "execution_count": 110,
   "id": "8e824cc4",
   "metadata": {},
   "outputs": [
    {
     "data": {
      "text/plain": [
       "('?###????????', [3, 2, 1], ['?###????????'], 10)"
      ]
     },
     "execution_count": 110,
     "metadata": {},
     "output_type": "execute_result"
    }
   ],
   "source": [
    "records = [i.split()[0] for i in input_data.splitlines()]\n",
    "counts = [[int(j) for j in i.split()[1].split(\",\")] for i in input_data.splitlines()]\n",
    "solutions = [1, 4, 1, 1,4,10]\n",
    "i = 5\n",
    "r, c = records[i], counts[i]\n",
    "r, c, re.findall(r\"[?#]+\", r), solutions[i]"
   ]
  },
  {
   "cell_type": "code",
   "execution_count": 111,
   "id": "94f5b0b1",
   "metadata": {},
   "outputs": [
    {
     "data": {
      "text/plain": [
       "[('###', '????', '??', '?', '?')]"
      ]
     },
     "execution_count": 111,
     "metadata": {},
     "output_type": "execute_result"
    }
   ],
   "source": [
    "groups = [f\"([#\\?]{{{i}}})\" for i in c]\n",
    "pat = r\"([\\.\\?]+)\".join(groups) \n",
    "parts = re.findall(pat, r)#[0]\n",
    "parts"
   ]
  },
  {
   "cell_type": "code",
   "execution_count": null,
   "id": "bd07da9d-e2e8-4330-90d5-d0f279a7b503",
   "metadata": {},
   "outputs": [],
   "source": []
  },
  {
   "cell_type": "code",
   "execution_count": 112,
   "id": "d2ee1d32-1040-44e0-9597-0efcdd1b0d3f",
   "metadata": {},
   "outputs": [
    {
     "data": {
      "text/plain": [
       "10"
      ]
     },
     "execution_count": 112,
     "metadata": {},
     "output_type": "execute_result"
    }
   ],
   "source": [
    "import math\n",
    "math.comb(5,2)"
   ]
  },
  {
   "cell_type": "code",
   "execution_count": 396,
   "id": "d3a1900f",
   "metadata": {},
   "outputs": [
    {
     "data": {
      "text/plain": [
       "1"
      ]
     },
     "execution_count": 396,
     "metadata": {},
     "output_type": "execute_result"
    }
   ],
   "source": [
    "j = 0\n",
    "missing = c[j] - parts[j].count(\"#\") \n",
    "posibilities = 1\n",
    "if missing:\n",
    "    if len(p[j+1]) > 1:\n",
    "        \n",
    "        "
   ]
  },
  {
   "cell_type": "code",
   "execution_count": null,
   "id": "2731a93b",
   "metadata": {},
   "outputs": [],
   "source": []
  },
  {
   "cell_type": "code",
   "execution_count": null,
   "id": "34fe7817",
   "metadata": {},
   "outputs": [],
   "source": []
  },
  {
   "cell_type": "code",
   "execution_count": null,
   "id": "a862b5e4",
   "metadata": {},
   "outputs": [],
   "source": []
  },
  {
   "cell_type": "code",
   "execution_count": null,
   "id": "afc905f5",
   "metadata": {},
   "outputs": [],
   "source": []
  },
  {
   "cell_type": "code",
   "execution_count": null,
   "id": "8c791b8c",
   "metadata": {},
   "outputs": [],
   "source": []
  },
  {
   "cell_type": "code",
   "execution_count": null,
   "id": "7b6034b0",
   "metadata": {},
   "outputs": [],
   "source": []
  },
  {
   "cell_type": "code",
   "execution_count": null,
   "id": "ea4867bd",
   "metadata": {},
   "outputs": [],
   "source": []
  }
 ],
 "metadata": {
  "kernelspec": {
   "display_name": "Python 3 (ipykernel)",
   "language": "python",
   "name": "python3"
  },
  "language_info": {
   "codemirror_mode": {
    "name": "ipython",
    "version": 3
   },
   "file_extension": ".py",
   "mimetype": "text/x-python",
   "name": "python",
   "nbconvert_exporter": "python",
   "pygments_lexer": "ipython3",
   "version": "3.10.6"
  },
  "toc": {
   "base_numbering": 1,
   "nav_menu": {},
   "number_sections": true,
   "sideBar": true,
   "skip_h1_title": false,
   "title_cell": "Table of Contents",
   "title_sidebar": "Contents",
   "toc_cell": true,
   "toc_position": {},
   "toc_section_display": true,
   "toc_window_display": false
  },
  "varInspector": {
   "cols": {
    "lenName": 16,
    "lenType": 16,
    "lenVar": 40
   },
   "kernels_config": {
    "python": {
     "delete_cmd_postfix": "",
     "delete_cmd_prefix": "del ",
     "library": "var_list.py",
     "varRefreshCmd": "print(var_dic_list())"
    },
    "r": {
     "delete_cmd_postfix": ") ",
     "delete_cmd_prefix": "rm(",
     "library": "var_list.r",
     "varRefreshCmd": "cat(var_dic_list()) "
    }
   },
   "types_to_exclude": [
    "module",
    "function",
    "builtin_function_or_method",
    "instance",
    "_Feature"
   ],
   "window_display": false
  }
 },
 "nbformat": 4,
 "nbformat_minor": 5
}
