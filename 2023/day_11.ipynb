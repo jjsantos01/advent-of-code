{
 "cells": [
  {
   "cell_type": "markdown",
   "id": "187cf26b",
   "metadata": {
    "toc": true
   },
   "source": [
    "https://adventofcode.com/2023/day/11"
   ]
  },
  {
   "cell_type": "code",
   "execution_count": 1,
   "id": "69c0b0d7",
   "metadata": {},
   "outputs": [
    {
     "name": "stdout",
     "output_type": "stream",
     "text": [
      "...........................#.......#.....................#................#.......................................#.............#...........\n",
      "..................................................#........\n"
     ]
    }
   ],
   "source": [
    "input_test = \"\"\"...#......\n",
    ".......#..\n",
    "#.........\n",
    "..........\n",
    "......#...\n",
    ".#........\n",
    ".........#\n",
    "..........\n",
    ".......#..\n",
    "#...#.....\n",
    "\"\"\"\n",
    "\n",
    "with open('data/day_11.txt') as txtfile:\n",
    "    input_day = txtfile.read()\n",
    "    \n",
    "PROD = 1\n",
    "input_data = input_day if PROD else input_test\n",
    "print(input_data[0:200])"
   ]
  },
  {
   "cell_type": "code",
   "execution_count": 2,
   "id": "5f08b68e",
   "metadata": {},
   "outputs": [],
   "source": [
    "import pandas as pd\n",
    "from scipy.spatial import distance_matrix"
   ]
  },
  {
   "cell_type": "markdown",
   "id": "c2652a47",
   "metadata": {},
   "source": [
    "# Part 1"
   ]
  },
  {
   "cell_type": "code",
   "execution_count": 13,
   "id": "c1604f43",
   "metadata": {},
   "outputs": [
    {
     "name": "stdout",
     "output_type": "stream",
     "text": [
      "9370588.0\n"
     ]
    }
   ],
   "source": [
    "df = pd.DataFrame([list(l) for l in input_data.splitlines()])\n",
    "cols_dup = df.eq(\".\").all().pipe(lambda x: x.loc[x]).index\n",
    "rows_dup = df.eq(\".\").all(axis=1).pipe(lambda x: x.loc[x]).index\n",
    "\n",
    "inserted_c, inserted_r = 0, 0\n",
    "exp_factor = 2\n",
    "exp_factor -= 1\n",
    "for c in cols_dup:\n",
    "    df.rename(columns=lambda x: (x + exp_factor) if\n",
    "              (x > (c + exp_factor * inserted_c)) else x, inplace=True)\n",
    "    inserted_c += 1\n",
    "for r in rows_dup:\n",
    "    df.rename(index=lambda x: (x + exp_factor) if\n",
    "              (x > (r + exp_factor * inserted_r)) else x, inplace=True)\n",
    "    inserted_r += 1\n",
    "\n",
    "galaxies_pos = [df.loc[:, i].eq(\"#\").pipe(lambda x: x.loc[x]).index.tolist()\n",
    "                for i in df.columns]\n",
    "galaxies_pos = [(g, df.columns[pos]) for pos, row in enumerate(galaxies_pos) for g in row]\n",
    "print(distance_matrix(galaxies_pos, galaxies_pos, p=1).sum() / 2)"
   ]
  },
  {
   "cell_type": "markdown",
   "id": "4a5c8b27",
   "metadata": {},
   "source": [
    "# Part 2"
   ]
  },
  {
   "cell_type": "code",
   "execution_count": 14,
   "id": "0abca1e5",
   "metadata": {},
   "outputs": [
    {
     "name": "stdout",
     "output_type": "stream",
     "text": [
      "746207878188.0\n"
     ]
    }
   ],
   "source": [
    "df = pd.DataFrame([list(l) for l in input_data.splitlines()])\n",
    "cols_dup = df.eq(\".\").all().pipe(lambda x: x.loc[x]).index\n",
    "rows_dup = df.eq(\".\").all(axis=1).pipe(lambda x: x.loc[x]).index\n",
    "\n",
    "cols = df.columns.tolist()\n",
    "rows = df.index.tolist()\n",
    "\n",
    "inserted_c = 0\n",
    "inserted_r = 0\n",
    "exp_factor = 1_000_000\n",
    "exp_factor -= 1\n",
    "for c in cols_dup:\n",
    "    df.rename(columns=lambda x: (x + exp_factor) if\n",
    "              (x > (c + exp_factor * inserted_c)) else x, inplace=True)\n",
    "    inserted_c += 1\n",
    "for r in rows_dup:\n",
    "    df.rename(index=lambda x: (x + exp_factor) if\n",
    "              (x > (r + exp_factor * inserted_r)) else x, inplace=True)\n",
    "    inserted_r += 1\n",
    "\n",
    "galaxies_pos = [df.loc[:, i].eq(\"#\").pipe(lambda x: x.loc[x]).index.tolist()\n",
    "                for i in df.columns]\n",
    "galaxies_pos = [(g, df.columns[pos]) for pos, row in enumerate(galaxies_pos) for g in row]\n",
    "print(distance_matrix(galaxies_pos, galaxies_pos, p=1).sum() / 2)"
   ]
  },
  {
   "cell_type": "code",
   "execution_count": null,
   "id": "ee70e446",
   "metadata": {
    "scrolled": true
   },
   "outputs": [],
   "source": []
  }
 ],
 "metadata": {
  "kernelspec": {
   "display_name": "Python 3 (ipykernel)",
   "language": "python",
   "name": "python3"
  },
  "language_info": {
   "codemirror_mode": {
    "name": "ipython",
    "version": 3
   },
   "file_extension": ".py",
   "mimetype": "text/x-python",
   "name": "python",
   "nbconvert_exporter": "python",
   "pygments_lexer": "ipython3",
   "version": "3.10.6"
  },
  "toc": {
   "base_numbering": 1,
   "nav_menu": {},
   "number_sections": true,
   "sideBar": true,
   "skip_h1_title": false,
   "title_cell": "Table of Contents",
   "title_sidebar": "Contents",
   "toc_cell": true,
   "toc_position": {},
   "toc_section_display": true,
   "toc_window_display": false
  },
  "varInspector": {
   "cols": {
    "lenName": 16,
    "lenType": 16,
    "lenVar": 40
   },
   "kernels_config": {
    "python": {
     "delete_cmd_postfix": "",
     "delete_cmd_prefix": "del ",
     "library": "var_list.py",
     "varRefreshCmd": "print(var_dic_list())"
    },
    "r": {
     "delete_cmd_postfix": ") ",
     "delete_cmd_prefix": "rm(",
     "library": "var_list.r",
     "varRefreshCmd": "cat(var_dic_list()) "
    }
   },
   "types_to_exclude": [
    "module",
    "function",
    "builtin_function_or_method",
    "instance",
    "_Feature"
   ],
   "window_display": false
  }
 },
 "nbformat": 4,
 "nbformat_minor": 5
}
