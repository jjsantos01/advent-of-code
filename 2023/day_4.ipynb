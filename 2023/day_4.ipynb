{
 "cells": [
  {
   "cell_type": "markdown",
   "id": "c032a063-1dec-4467-88c4-2d1159644906",
   "metadata": {},
   "source": [
    "https://adventofcode.com/2023/day/4"
   ]
  },
  {
   "cell_type": "code",
   "execution_count": 36,
   "id": "bfa57a9c-ddad-4a82-a7a1-33fd668f222c",
   "metadata": {},
   "outputs": [],
   "source": [
    "testing = \"\"\"Card 1: 41 48 83 86 17 | 83 86  6 31 17  9 48 53\n",
    "Card 2: 13 32 20 16 61 | 61 30 68 82 17 32 24 19\n",
    "Card 3:  1 21 53 59 44 | 69 82 63 72 16 21 14  1\n",
    "Card 4: 41 92 73 84 69 | 59 84 76 51 58  5 54 83\n",
    "Card 5: 87 83 26 28 32 | 88 30 70 12 93 22 82 36\n",
    "Card 6: 31 18 13 56 72 | 74 77 10 23 35 67 36 11\"\"\".splitlines()\n",
    "\n",
    "with open('data/day_4.txt') as txtfile:\n",
    "    input_day = txtfile.read().splitlines()"
   ]
  },
  {
   "cell_type": "markdown",
   "id": "3967da8d-9207-4520-9913-a5096edb0997",
   "metadata": {},
   "source": [
    "# Part 1"
   ]
  },
  {
   "cell_type": "code",
   "execution_count": 31,
   "id": "b123c54a-c29d-420a-95d8-924f527e1d0e",
   "metadata": {},
   "outputs": [
    {
     "name": "stdout",
     "output_type": "stream",
     "text": [
      "26914\n"
     ]
    }
   ],
   "source": [
    "points = 0\n",
    "for l in input_day:\n",
    "    w, n = l.split(':')[1].split('|')\n",
    "    my_numbers = [i.strip() for i in w.split()]\n",
    "    numbers = [i.strip() for i in n.split()]\n",
    "    winning = len(set(my_numbers) & set(numbers))\n",
    "    if winning: points += 2 ** (winning - 1) \n",
    "print(points)"
   ]
  },
  {
   "cell_type": "markdown",
   "id": "af19d435-9adc-4d28-8fbc-750324a6d568",
   "metadata": {},
   "source": [
    "# Part 2"
   ]
  },
  {
   "cell_type": "code",
   "execution_count": 64,
   "id": "70cb6d40-5dc3-4e8f-b33f-d31d9f23c2b1",
   "metadata": {},
   "outputs": [
    {
     "data": {
      "text/plain": [
       "13080971"
      ]
     },
     "execution_count": 64,
     "metadata": {},
     "output_type": "execute_result"
    }
   ],
   "source": [
    "copies = {i:0 for i in range(len(input_day))}\n",
    "for pos, l in enumerate(input_day):\n",
    "    w, n = l.split(':')[1].split('|')\n",
    "    my_numbers = [i.strip() for i in w.split()]\n",
    "    numbers = [i.strip() for i in n.split()]\n",
    "    winning = len(set(my_numbers) & set(numbers))\n",
    "    for i in range(1, winning + 1):\n",
    "        copies[pos + i] += bool(winning) + copies.get(pos, 0)\n",
    "print(sum(copies.values()) + len(input_day))"
   ]
  }
 ],
 "metadata": {
  "kernelspec": {
   "display_name": "Python 3 (ipykernel)",
   "language": "python",
   "name": "python3"
  },
  "language_info": {
   "codemirror_mode": {
    "name": "ipython",
    "version": 3
   },
   "file_extension": ".py",
   "mimetype": "text/x-python",
   "name": "python",
   "nbconvert_exporter": "python",
   "pygments_lexer": "ipython3",
   "version": "3.10.6"
  },
  "widgets": {
   "application/vnd.jupyter.widget-state+json": {
    "state": {},
    "version_major": 2,
    "version_minor": 0
   }
  }
 },
 "nbformat": 4,
 "nbformat_minor": 5
}
