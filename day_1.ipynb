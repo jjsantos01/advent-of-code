{
 "cells": [
  {
   "cell_type": "markdown",
   "id": "3407e356-a218-4d38-955c-156c28d8866a",
   "metadata": {},
   "source": [
    "https://adventofcode.com/2023/day/1"
   ]
  },
  {
   "cell_type": "markdown",
   "id": "fcee266a-962a-4de2-9c3c-21f1395a5821",
   "metadata": {},
   "source": [
    "# Part 1"
   ]
  },
  {
   "cell_type": "code",
   "execution_count": 1,
   "id": "0d3b7df4-d81e-4067-92b8-3a4d29aaa246",
   "metadata": {},
   "outputs": [
    {
     "name": "stdout",
     "output_type": "stream",
     "text": [
      "54390\n"
     ]
    }
   ],
   "source": [
    "# Part one\n",
    "import re\n",
    "\n",
    "with open(\"data/day_1.txt\") as txtfile:\n",
    "    text_input = txtfile.read().splitlines()\n",
    "\n",
    "code = 0\n",
    "for l in text_input:\n",
    "    digits = re.findall(r'\\d', l)\n",
    "    if digits:\n",
    "        code += int(digits[0] + digits[-1])\n",
    "\n",
    "print(code)"
   ]
  },
  {
   "cell_type": "markdown",
   "id": "239304bf-d1ff-4f8e-8deb-593f7ce37c0f",
   "metadata": {},
   "source": [
    "# Part 2"
   ]
  },
  {
   "cell_type": "code",
   "execution_count": 4,
   "id": "390298c8-b503-4c39-809b-d00d88518f5f",
   "metadata": {},
   "outputs": [
    {
     "name": "stdout",
     "output_type": "stream",
     "text": [
      "54277\n"
     ]
    }
   ],
   "source": [
    "# part 2\n",
    "import re\n",
    "\n",
    "with open(\"data/day_1.txt\") as txtfile:\n",
    "    text_input = txtfile.read().splitlines()\n",
    "    \n",
    "\n",
    "n_list = ['one', 'two', 'three', 'four', 'five', 'six', 'seven', 'eight', 'nine']\n",
    "dicc_numbers = {k: str(v) for v, k in enumerate(n_list, 1)}\n",
    "dicc_numbers_complete = {**dicc_numbers, **{str(i): str(i) for i in range(1, 10)}}\n",
    "num_pattern = f\"(?=(\\d|{'|'.join(dicc_numbers.keys())}))\"\n",
    "code = 0\n",
    "\n",
    "for l in text_input:\n",
    "    digits = re.findall(num_pattern, l)\n",
    "    if digits:\n",
    "        number = int(dicc_numbers_complete[digits[0]] + dicc_numbers_complete[digits[-1]])\n",
    "        code += number\n",
    "print(code)"
   ]
  },
  {
   "cell_type": "code",
   "execution_count": null,
   "id": "46693af3-bc93-4040-afd9-5d6d1d2cee85",
   "metadata": {},
   "outputs": [],
   "source": []
  },
  {
   "cell_type": "code",
   "execution_count": null,
   "id": "3d4d55f3-2cf1-4bf7-a16c-8c738edbcde5",
   "metadata": {},
   "outputs": [],
   "source": []
  }
 ],
 "metadata": {
  "kernelspec": {
   "display_name": "Python 3 (ipykernel)",
   "language": "python",
   "name": "python3"
  },
  "language_info": {
   "codemirror_mode": {
    "name": "ipython",
    "version": 3
   },
   "file_extension": ".py",
   "mimetype": "text/x-python",
   "name": "python",
   "nbconvert_exporter": "python",
   "pygments_lexer": "ipython3",
   "version": "3.10.6"
  },
  "widgets": {
   "application/vnd.jupyter.widget-state+json": {
    "state": {},
    "version_major": 2,
    "version_minor": 0
   }
  }
 },
 "nbformat": 4,
 "nbformat_minor": 5
}
