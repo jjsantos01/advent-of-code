{
 "cells": [
  {
   "cell_type": "markdown",
   "id": "187cf26b",
   "metadata": {
    "toc": true
   },
   "source": [
    "<h1>Table of Contents<span class=\"tocSkip\"></span></h1>\n",
    "<div class=\"toc\"><ul class=\"toc-item\"><li><span><a href=\"#Part-1\" data-toc-modified-id=\"Part-1-1\"><span class=\"toc-item-num\">1&nbsp;&nbsp;</span>Part 1</a></span></li><li><span><a href=\"#Part-2\" data-toc-modified-id=\"Part-2-2\"><span class=\"toc-item-num\">2&nbsp;&nbsp;</span>Part 2</a></span></li></ul></div>"
   ]
  },
  {
   "cell_type": "raw",
   "id": "58d6ddda",
   "metadata": {},
   "source": [
    "--- Day 11: Cosmic Expansion ---\n",
    "You continue following signs for \"Hot Springs\" and eventually come across an observatory. The Elf within turns out to be a researcher studying cosmic expansion using the giant telescope here.\n",
    "\n",
    "He doesn't know anything about the missing machine parts; he's only visiting for this research project. However, he confirms that the hot springs are the next-closest area likely to have people; he'll even take you straight there once he's done with today's observation analysis.\n",
    "\n",
    "Maybe you can help him with the analysis to speed things up?\n",
    "\n",
    "The researcher has collected a bunch of data and compiled the data into a single giant image (your puzzle input). The image includes empty space (.) and galaxies (#). For example:\n",
    "\n",
    "...#......\n",
    ".......#..\n",
    "#.........\n",
    "..........\n",
    "......#...\n",
    ".#........\n",
    ".........#\n",
    "..........\n",
    ".......#..\n",
    "#...#.....\n",
    "The researcher is trying to figure out the sum of the lengths of the shortest path between every pair of galaxies. However, there's a catch: the universe expanded in the time it took the light from those galaxies to reach the observatory.\n",
    "\n",
    "Due to something involving gravitational effects, only some space expands. In fact, the result is that any rows or columns that contain no galaxies should all actually be twice as big.\n",
    "\n",
    "In the above example, three columns and two rows contain no galaxies:\n",
    "\n",
    "   v  v  v\n",
    " ...#......\n",
    " .......#..\n",
    " #.........\n",
    ">..........<\n",
    " ......#...\n",
    " .#........\n",
    " .........#\n",
    ">..........<\n",
    " .......#..\n",
    " #...#.....\n",
    "   ^  ^  ^\n",
    "These rows and columns need to be twice as big; the result of cosmic expansion therefore looks like this:\n",
    "\n",
    "....#........\n",
    ".........#...\n",
    "#............\n",
    ".............\n",
    ".............\n",
    "........#....\n",
    ".#...........\n",
    "............#\n",
    ".............\n",
    ".............\n",
    ".........#...\n",
    "#....#.......\n",
    "Equipped with this expanded universe, the shortest path between every pair of galaxies can be found. It can help to assign every galaxy a unique number:\n",
    "\n",
    "....1........\n",
    ".........2...\n",
    "3............\n",
    ".............\n",
    ".............\n",
    "........4....\n",
    ".5...........\n",
    "............6\n",
    ".............\n",
    ".............\n",
    ".........7...\n",
    "8....9.......\n",
    "In these 9 galaxies, there are 36 pairs. Only count each pair once; order within the pair doesn't matter. For each pair, find any shortest path between the two galaxies using only steps that move up, down, left, or right exactly one . or # at a time. (The shortest path between two galaxies is allowed to pass through another galaxy.)\n",
    "\n",
    "For example, here is one of the shortest paths between galaxies 5 and 9:\n",
    "\n",
    "....1........\n",
    ".........2...\n",
    "3............\n",
    ".............\n",
    ".............\n",
    "........4....\n",
    ".5...........\n",
    ".##.........6\n",
    "..##.........\n",
    "...##........\n",
    "....##...7...\n",
    "8....9.......\n",
    "This path has length 9 because it takes a minimum of nine steps to get from galaxy 5 to galaxy 9 (the eight locations marked # plus the step onto galaxy 9 itself). Here are some other example shortest path lengths:\n",
    "\n",
    "Between galaxy 1 and galaxy 7: 15\n",
    "Between galaxy 3 and galaxy 6: 17\n",
    "Between galaxy 8 and galaxy 9: 5\n",
    "In this example, after expanding the universe, the sum of the shortest path between all 36 pairs of galaxies is 374.\n",
    "\n",
    "Expand the universe, then find the length of the shortest path between every pair of galaxies. What is the sum of these lengths?\n",
    "\n",
    "Your puzzle answer was 9370588.\n",
    "\n",
    "--- Part Two ---\n",
    "The galaxies are much older (and thus much farther apart) than the researcher initially estimated.\n",
    "\n",
    "Now, instead of the expansion you did before, make each empty row or column one million times larger. That is, each empty row should be replaced with 1000000 empty rows, and each empty column should be replaced with 1000000 empty columns.\n",
    "\n",
    "(In the example above, if each empty row or column were merely 10 times larger, the sum of the shortest paths between every pair of galaxies would be 1030. If each empty row or column were merely 100 times larger, the sum of the shortest paths between every pair of galaxies would be 8410. However, your universe will need to expand far beyond these values.)\n",
    "\n",
    "Starting with the same initial image, expand the universe according to these new rules, then find the length of the shortest path between every pair of galaxies. What is the sum of these lengths?\n",
    "\n",
    "Your puzzle answer was 746207878188.\n",
    "\n",
    "Both parts of this puzzle are complete! They provide two gold stars: **\n",
    "\n",
    "At this point, you should return to your Advent calendar and try another puzzle."
   ]
  },
  {
   "cell_type": "code",
   "execution_count": 1,
   "id": "69c0b0d7",
   "metadata": {},
   "outputs": [
    {
     "name": "stdout",
     "output_type": "stream",
     "text": [
      "...........................#.......#.....................#................#.......................................#.............#...........\n",
      "..................................................#........\n"
     ]
    }
   ],
   "source": [
    "input_test = \"\"\"...#......\n",
    ".......#..\n",
    "#.........\n",
    "..........\n",
    "......#...\n",
    ".#........\n",
    ".........#\n",
    "..........\n",
    ".......#..\n",
    "#...#.....\n",
    "\"\"\"\n",
    "\n",
    "with open('data/day_11.txt') as txtfile:\n",
    "    input_day = txtfile.read()\n",
    "    \n",
    "PROD = 1\n",
    "input_data = input_day if PROD else input_test\n",
    "print(input_data[0:200])"
   ]
  },
  {
   "cell_type": "code",
   "execution_count": 2,
   "id": "5f08b68e",
   "metadata": {},
   "outputs": [],
   "source": [
    "import pandas as pd\n",
    "from scipy.spatial import distance_matrix"
   ]
  },
  {
   "cell_type": "markdown",
   "id": "c2652a47",
   "metadata": {},
   "source": [
    "# Part 1"
   ]
  },
  {
   "cell_type": "code",
   "execution_count": 13,
   "id": "c1604f43",
   "metadata": {},
   "outputs": [
    {
     "name": "stdout",
     "output_type": "stream",
     "text": [
      "9370588.0\n"
     ]
    }
   ],
   "source": [
    "df = pd.DataFrame([list(l) for l in input_data.splitlines()])\n",
    "cols_dup = df.eq(\".\").all().pipe(lambda x: x.loc[x]).index\n",
    "rows_dup = df.eq(\".\").all(axis=1).pipe(lambda x: x.loc[x]).index\n",
    "\n",
    "inserted_c, inserted_r = 0, 0\n",
    "exp_factor = 2\n",
    "exp_factor -= 1\n",
    "for c in cols_dup:\n",
    "    df.rename(columns=lambda x: (x + exp_factor) if\n",
    "              (x > (c + exp_factor * inserted_c)) else x, inplace=True)\n",
    "    inserted_c += 1\n",
    "for r in rows_dup:\n",
    "    df.rename(index=lambda x: (x + exp_factor) if\n",
    "              (x > (r + exp_factor * inserted_r)) else x, inplace=True)\n",
    "    inserted_r += 1\n",
    "\n",
    "galaxies_pos = [df.loc[:, i].eq(\"#\").pipe(lambda x: x.loc[x]).index.tolist()\n",
    "                for i in df.columns]\n",
    "galaxies_pos = [(g, df.columns[pos]) for pos, row in enumerate(galaxies_pos) for g in row]\n",
    "print(distance_matrix(galaxies_pos, galaxies_pos, p=1).sum() / 2)"
   ]
  },
  {
   "cell_type": "markdown",
   "id": "4a5c8b27",
   "metadata": {},
   "source": [
    "# Part 2"
   ]
  },
  {
   "cell_type": "code",
   "execution_count": 14,
   "id": "0abca1e5",
   "metadata": {},
   "outputs": [
    {
     "name": "stdout",
     "output_type": "stream",
     "text": [
      "746207878188.0\n"
     ]
    }
   ],
   "source": [
    "df = pd.DataFrame([list(l) for l in input_data.splitlines()])\n",
    "cols_dup = df.eq(\".\").all().pipe(lambda x: x.loc[x]).index\n",
    "rows_dup = df.eq(\".\").all(axis=1).pipe(lambda x: x.loc[x]).index\n",
    "\n",
    "cols = df.columns.tolist()\n",
    "rows = df.index.tolist()\n",
    "\n",
    "inserted_c = 0\n",
    "inserted_r = 0\n",
    "exp_factor = 1_000_000\n",
    "exp_factor -= 1\n",
    "for c in cols_dup:\n",
    "    df.rename(columns=lambda x: (x + exp_factor) if\n",
    "              (x > (c + exp_factor * inserted_c)) else x, inplace=True)\n",
    "    inserted_c += 1\n",
    "for r in rows_dup:\n",
    "    df.rename(index=lambda x: (x + exp_factor) if\n",
    "              (x > (r + exp_factor * inserted_r)) else x, inplace=True)\n",
    "    inserted_r += 1\n",
    "\n",
    "galaxies_pos = [df.loc[:, i].eq(\"#\").pipe(lambda x: x.loc[x]).index.tolist()\n",
    "                for i in df.columns]\n",
    "galaxies_pos = [(g, df.columns[pos]) for pos, row in enumerate(galaxies_pos) for g in row]\n",
    "print(distance_matrix(galaxies_pos, galaxies_pos, p=1).sum() / 2)"
   ]
  },
  {
   "cell_type": "code",
   "execution_count": null,
   "id": "ee70e446",
   "metadata": {
    "scrolled": true
   },
   "outputs": [],
   "source": []
  }
 ],
 "metadata": {
  "kernelspec": {
   "display_name": "Python 3 (ipykernel)",
   "language": "python",
   "name": "python3"
  },
  "language_info": {
   "codemirror_mode": {
    "name": "ipython",
    "version": 3
   },
   "file_extension": ".py",
   "mimetype": "text/x-python",
   "name": "python",
   "nbconvert_exporter": "python",
   "pygments_lexer": "ipython3",
   "version": "3.10.6"
  },
  "toc": {
   "base_numbering": 1,
   "nav_menu": {},
   "number_sections": true,
   "sideBar": true,
   "skip_h1_title": false,
   "title_cell": "Table of Contents",
   "title_sidebar": "Contents",
   "toc_cell": true,
   "toc_position": {},
   "toc_section_display": true,
   "toc_window_display": false
  },
  "varInspector": {
   "cols": {
    "lenName": 16,
    "lenType": 16,
    "lenVar": 40
   },
   "kernels_config": {
    "python": {
     "delete_cmd_postfix": "",
     "delete_cmd_prefix": "del ",
     "library": "var_list.py",
     "varRefreshCmd": "print(var_dic_list())"
    },
    "r": {
     "delete_cmd_postfix": ") ",
     "delete_cmd_prefix": "rm(",
     "library": "var_list.r",
     "varRefreshCmd": "cat(var_dic_list()) "
    }
   },
   "types_to_exclude": [
    "module",
    "function",
    "builtin_function_or_method",
    "instance",
    "_Feature"
   ],
   "window_display": false
  }
 },
 "nbformat": 4,
 "nbformat_minor": 5
}
