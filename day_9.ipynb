{
 "cells": [
  {
   "cell_type": "markdown",
   "id": "01505416",
   "metadata": {
    "toc": true
   },
   "source": [
    "<h1>Table of Contents<span class=\"tocSkip\"></span></h1>\n",
    "<div class=\"toc\"><ul class=\"toc-item\"><li><span><a href=\"#Part-1\" data-toc-modified-id=\"Part-1-1\"><span class=\"toc-item-num\">1&nbsp;&nbsp;</span>Part 1</a></span></li><li><span><a href=\"#Part-2\" data-toc-modified-id=\"Part-2-2\"><span class=\"toc-item-num\">2&nbsp;&nbsp;</span>Part 2</a></span></li></ul></div>"
   ]
  },
  {
   "cell_type": "raw",
   "id": "a0c33ba8-12fb-4d4e-b46f-7b39f4ab8253",
   "metadata": {},
   "source": [
    "--- Day 9: Mirage Maintenance ---\n",
    "You ride the camel through the sandstorm and stop where the ghost's maps told you to stop. The sandstorm subsequently subsides, somehow seeing you standing at an oasis!\n",
    "\n",
    "The camel goes to get some water and you stretch your neck. As you look up, you discover what must be yet another giant floating island, this one made of metal! That must be where the parts to fix the sand machines come from.\n",
    "\n",
    "There's even a hang glider partially buried in the sand here; once the sun rises and heats up the sand, you might be able to use the glider and the hot air to get all the way up to the metal island!\n",
    "\n",
    "While you wait for the sun to rise, you admire the oasis hidden here in the middle of Desert Island. It must have a delicate ecosystem; you might as well take some ecological readings while you wait. Maybe you can report any environmental instabilities you find to someone so the oasis can be around for the next sandstorm-worn traveler.\n",
    "\n",
    "You pull out your handy Oasis And Sand Instability Sensor and analyze your surroundings. The OASIS produces a report of many values and how they are changing over time (your puzzle input). Each line in the report contains the history of a single value. For example:\n",
    "\n",
    "0 3 6 9 12 15\n",
    "1 3 6 10 15 21\n",
    "10 13 16 21 30 45\n",
    "To best protect the oasis, your environmental report should include a prediction of the next value in each history. To do this, start by making a new sequence from the difference at each step of your history. If that sequence is not all zeroes, repeat this process, using the sequence you just generated as the input sequence. Once all of the values in your latest sequence are zeroes, you can extrapolate what the next value of the original history should be.\n",
    "\n",
    "In the above dataset, the first history is 0 3 6 9 12 15. Because the values increase by 3 each step, the first sequence of differences that you generate will be 3 3 3 3 3. Note that this sequence has one fewer value than the input sequence because at each step it considers two numbers from the input. Since these values aren't all zero, repeat the process: the values differ by 0 at each step, so the next sequence is 0 0 0 0. This means you have enough information to extrapolate the history! Visually, these sequences can be arranged like this:\n",
    "\n",
    "0   3   6   9  12  15\n",
    "  3   3   3   3   3\n",
    "    0   0   0   0\n",
    "To extrapolate, start by adding a new zero to the end of your list of zeroes; because the zeroes represent differences between the two values above them, this also means there is now a placeholder in every sequence above it:\n",
    "\n",
    "0   3   6   9  12  15   B\n",
    "  3   3   3   3   3   A\n",
    "    0   0   0   0   0\n",
    "You can then start filling in placeholders from the bottom up. A needs to be the result of increasing 3 (the value to its left) by 0 (the value below it); this means A must be 3:\n",
    "\n",
    "0   3   6   9  12  15   B\n",
    "  3   3   3   3   3   3\n",
    "    0   0   0   0   0\n",
    "Finally, you can fill in B, which needs to be the result of increasing 15 (the value to its left) by 3 (the value below it), or 18:\n",
    "\n",
    "0   3   6   9  12  15  18\n",
    "  3   3   3   3   3   3\n",
    "    0   0   0   0   0\n",
    "So, the next value of the first history is 18.\n",
    "\n",
    "Finding all-zero differences for the second history requires an additional sequence:\n",
    "\n",
    "1   3   6  10  15  21\n",
    "  2   3   4   5   6\n",
    "    1   1   1   1\n",
    "      0   0   0\n",
    "Then, following the same process as before, work out the next value in each sequence from the bottom up:\n",
    "\n",
    "1   3   6  10  15  21  28\n",
    "  2   3   4   5   6   7\n",
    "    1   1   1   1   1\n",
    "      0   0   0   0\n",
    "So, the next value of the second history is 28.\n",
    "\n",
    "The third history requires even more sequences, but its next value can be found the same way:\n",
    "\n",
    "10  13  16  21  30  45  68\n",
    "   3   3   5   9  15  23\n",
    "     0   2   4   6   8\n",
    "       2   2   2   2\n",
    "         0   0   0\n",
    "So, the next value of the third history is 68.\n",
    "\n",
    "If you find the next value for each history in this example and add them together, you get 114.\n",
    "\n",
    "Analyze your OASIS report and extrapolate the next value for each history. What is the sum of these extrapolated values?\n",
    "\n",
    "Your puzzle answer was 1853145119.\n",
    "\n",
    "--- Part Two ---\n",
    "Of course, it would be nice to have even more history included in your report. Surely it's safe to just extrapolate backwards as well, right?\n",
    "\n",
    "For each history, repeat the process of finding differences until the sequence of differences is entirely zero. Then, rather than adding a zero to the end and filling in the next values of each previous sequence, you should instead add a zero to the beginning of your sequence of zeroes, then fill in new first values for each previous sequence.\n",
    "\n",
    "In particular, here is what the third example history looks like when extrapolating back in time:\n",
    "\n",
    "5  10  13  16  21  30  45\n",
    "  5   3   3   5   9  15\n",
    "   -2   0   2   4   6\n",
    "      2   2   2   2\n",
    "        0   0   0\n",
    "Adding the new values on the left side of each sequence from bottom to top eventually reveals the new left-most history value: 5.\n",
    "\n",
    "Doing this for the remaining example data above results in previous values of -3 for the first history and 0 for the second history. Adding all three new values together produces 2.\n",
    "\n",
    "Analyze your OASIS report again, this time extrapolating the previous value for each history. What is the sum of these extrapolated values?\n",
    "\n",
    "Your puzzle answer was 923.\n",
    "\n",
    "Both parts of this puzzle are complete! They provide two gold stars: **\n",
    "\n",
    "At this point, you should return to your Advent calendar and try another puzzle.\n",
    "\n",
    "If you still want to see it, you can get your puzzle input."
   ]
  },
  {
   "cell_type": "code",
   "execution_count": 1,
   "id": "4d5b9220-5678-48e1-a976-708bd6bb06fe",
   "metadata": {},
   "outputs": [
    {
     "name": "stdout",
     "output_type": "stream",
     "text": [
      "10 20 37 71 136 258 493 972 2001 4255 9116 19216 39257 77191 145854 265159 464964 788742 1298191 2078933 3247462\n",
      "28 53 92 163 312 639 1336 2734 5353 9946 17525 29354 46891 71658 105015 147811 199882 259363 321778 378869 417122\n",
      "10 18 38 85 184 373 706 1256 2118 3412 5286 7919 11524 16351 22690 30874 41282 54342 70534 90393 114512\n",
      "13 28 45 59 57 23 -46 -115 -83 238 1123 2895 5825 9945 14744 18713 18701 9040 -19607 -81725 -198807\n",
      "9 5 1 -3 -7 -11 -15 -19 -23 -27 -31 -35 -39 -43 -47 -51 -55 -59 -63 -\n"
     ]
    }
   ],
   "source": [
    "import pandas as pd\n",
    "\n",
    "input_test = \"\"\"0 3 6 9 12 15\n",
    "1 3 6 10 15 21\n",
    "10 13 16 21 30 45\n",
    "\"\"\"\n",
    "\n",
    "input_test_2 = \"\"\"9 5 1 -3 -7 -11 -15 -19 -23 -27 -31 -35 -39 -43 -47 -51 -55 -59 -63 -67 -71\"\"\"\n",
    "\n",
    "with open('data/day_9.txt') as txtfile:\n",
    "    input_day = txtfile.read()\n",
    "    \n",
    "PROD = 1\n",
    "input_data = input_day if PROD else input_test\n",
    "print(input_data[0:500])"
   ]
  },
  {
   "cell_type": "markdown",
   "id": "ddc31ecb-50c3-4361-90e5-a8b552328cb2",
   "metadata": {},
   "source": [
    "# Part 1"
   ]
  },
  {
   "cell_type": "code",
   "execution_count": 2,
   "id": "871f53b6-357e-465c-8b8b-48cdf66075a3",
   "metadata": {},
   "outputs": [
    {
     "name": "stdout",
     "output_type": "stream",
     "text": [
      "1853145119.0\n"
     ]
    }
   ],
   "source": [
    "series = [[int(n) for n in s.split()] for s in input_data.splitlines()]\n",
    "rta = 0\n",
    "for serie in series:\n",
    "    diff = pd.Series(serie).diff().dropna()\n",
    "    last_rows_sum = diff.iloc[-1] + serie[-1]\n",
    "    while not diff.eq(0).all():\n",
    "        diff = diff.diff().dropna()\n",
    "        last_rows_sum += diff.iloc[-1]\n",
    "\n",
    "    rta += last_rows_sum\n",
    "print(rta)"
   ]
  },
  {
   "cell_type": "markdown",
   "id": "012517f8-6512-4d75-a1d5-ddb84b0f73e3",
   "metadata": {},
   "source": [
    "# Part 2"
   ]
  },
  {
   "cell_type": "code",
   "execution_count": 6,
   "id": "15113489-ef46-4449-a840-1d887cb21191",
   "metadata": {},
   "outputs": [
    {
     "name": "stdout",
     "output_type": "stream",
     "text": [
      "923.0\n"
     ]
    }
   ],
   "source": [
    "series = [[int(n) for n in s.split()] for s in input_data.splitlines()]\n",
    "rta = 0\n",
    "for serie in series:\n",
    "    diff = pd.Series(serie).diff().dropna()\n",
    "    first_rows_sum = serie[0] - diff.iloc[0]\n",
    "    i = 0\n",
    "    while not diff.eq(0).all():\n",
    "        diff = diff.diff().dropna()\n",
    "        first_rows_sum += ((-1) ** i) * diff.iloc[0]\n",
    "        i += 1\n",
    "\n",
    "    rta += first_rows_sum\n",
    "print(rta)"
   ]
  }
 ],
 "metadata": {
  "kernelspec": {
   "display_name": "Python 3 (ipykernel)",
   "language": "python",
   "name": "python3"
  },
  "language_info": {
   "codemirror_mode": {
    "name": "ipython",
    "version": 3
   },
   "file_extension": ".py",
   "mimetype": "text/x-python",
   "name": "python",
   "nbconvert_exporter": "python",
   "pygments_lexer": "ipython3",
   "version": "3.10.6"
  },
  "toc": {
   "base_numbering": 1,
   "nav_menu": {},
   "number_sections": true,
   "sideBar": true,
   "skip_h1_title": false,
   "title_cell": "Table of Contents",
   "title_sidebar": "Contents",
   "toc_cell": true,
   "toc_position": {},
   "toc_section_display": true,
   "toc_window_display": false
  },
  "varInspector": {
   "cols": {
    "lenName": 16,
    "lenType": 16,
    "lenVar": 40
   },
   "kernels_config": {
    "python": {
     "delete_cmd_postfix": "",
     "delete_cmd_prefix": "del ",
     "library": "var_list.py",
     "varRefreshCmd": "print(var_dic_list())"
    },
    "r": {
     "delete_cmd_postfix": ") ",
     "delete_cmd_prefix": "rm(",
     "library": "var_list.r",
     "varRefreshCmd": "cat(var_dic_list()) "
    }
   },
   "types_to_exclude": [
    "module",
    "function",
    "builtin_function_or_method",
    "instance",
    "_Feature"
   ],
   "window_display": false
  }
 },
 "nbformat": 4,
 "nbformat_minor": 5
}
