{
 "cells": [
  {
   "cell_type": "markdown",
   "metadata": {
    "toc": true
   },
   "source": [
    "https://adventofcode.com/2023/day/21"
   ]
  },
  {
   "cell_type": "code",
   "execution_count": 2,
   "metadata": {},
   "outputs": [],
   "source": [
    "import numpy as np\n",
    "import pandas as pd\n",
    "import networkx as nx\n",
    "from scipy.spatial import distance_matrix\n",
    "\n",
    "input_test = r\"\"\"...........\n",
    ".....###.#.\n",
    ".###.##..#.\n",
    "..#.#...#..\n",
    "....#.#....\n",
    ".##..S####.\n",
    ".##..#...#.\n",
    ".......##..\n",
    ".##.#.####.\n",
    ".##..##.##.\n",
    "...........\"\"\"\n",
    "\n",
    "with open('data/day_21.txt') as txtfile:\n",
    "    input_day = txtfile.read()\n",
    "\n",
    "def get_data(prod=0):\n",
    "    input_data = input_day if prod else input_test\n",
    "    return input_data\n"
   ]
  },
  {
   "cell_type": "code",
   "execution_count": 3,
   "metadata": {},
   "outputs": [
    {
     "data": {
      "text/plain": [
       "7612"
      ]
     },
     "execution_count": 3,
     "metadata": {},
     "output_type": "execute_result"
    }
   ],
   "source": [
    "data = get_data(1)\n",
    "df = pd.DataFrame([list(line) for line in data.splitlines()])\n",
    "cells = np.array([[i, c] for i in df.index for c in df.columns])\n",
    "dist = distance_matrix(cells, cells, p=1)\n",
    "neighs = {}\n",
    "for i in range(len(cells)):\n",
    "    cell = tuple(cells[i])\n",
    "    if df.loc[cell]!=\"#\":\n",
    "        neighs[cell] = [tuple(i) for i in cells[(dist[i] == 1)] if df.loc[tuple(i)]!=\"#\"]\n",
    "\n",
    "edges = [(k, n) for k, v in neighs.items() for n in v]\n",
    "G = nx.Graph()\n",
    "G.add_edges_from(edges)\n",
    "steps = 64\n",
    "start = df.eq(\"S\").sum().argmax(), df.eq(\"S\").sum(axis=1).argmax()\n",
    "n = [len(nx.descendants_at_distance(G, start, i)) for i in range(1, steps + 1)]\n",
    "sum([n for pos, n in enumerate(n) if (pos%2)==((steps + 1)%2)]) + 1\n"
   ]
  }
 ],
 "metadata": {
  "kernelspec": {
   "display_name": "Python 3 (ipykernel)",
   "language": "python",
   "name": "python3"
  },
  "language_info": {
   "codemirror_mode": {
    "name": "ipython",
    "version": 3
   },
   "file_extension": ".py",
   "mimetype": "text/x-python",
   "name": "python",
   "nbconvert_exporter": "python",
   "pygments_lexer": "ipython3",
   "version": "3.10.6"
  },
  "toc": {
   "base_numbering": 1,
   "nav_menu": {},
   "number_sections": true,
   "sideBar": true,
   "skip_h1_title": false,
   "title_cell": "Table of Contents",
   "title_sidebar": "Contents",
   "toc_cell": true,
   "toc_position": {},
   "toc_section_display": true,
   "toc_window_display": false
  },
  "varInspector": {
   "cols": {
    "lenName": 16,
    "lenType": 16,
    "lenVar": 40
   },
   "kernels_config": {
    "python": {
     "delete_cmd_postfix": "",
     "delete_cmd_prefix": "del ",
     "library": "var_list.py",
     "varRefreshCmd": "print(var_dic_list())"
    },
    "r": {
     "delete_cmd_postfix": ") ",
     "delete_cmd_prefix": "rm(",
     "library": "var_list.r",
     "varRefreshCmd": "cat(var_dic_list()) "
    }
   },
   "types_to_exclude": [
    "module",
    "function",
    "builtin_function_or_method",
    "instance",
    "_Feature"
   ],
   "window_display": false
  }
 },
 "nbformat": 4,
 "nbformat_minor": 4
}
