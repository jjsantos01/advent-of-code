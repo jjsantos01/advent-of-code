{
 "cells": [
  {
   "cell_type": "code",
   "execution_count": 40,
   "id": "1d262ccd-eddd-4e4c-965e-4e7287ab41d7",
   "metadata": {
    "scrolled": true,
    "tags": []
   },
   "outputs": [
    {
     "name": "stdout",
     "output_type": "stream",
     "text": [
      "J2566 131\n",
      "K7KK7 272\n",
      "2K222 74\n",
      "44T55 467\n",
      "33433 226\n",
      "T9999 92\n",
      "77979 209\n",
      "J8388 787\n",
      "88872 18\n",
      "5T65A 975\n",
      "J3Q33 207\n",
      "J44AA 971\n",
      "499T6 874\n",
      "6QAAA 135\n",
      "JJ577 736\n",
      "9977J 677\n",
      "2JA43 282\n",
      "A4K79 728\n",
      "66J4K 266\n",
      "K627J 757\n",
      "486\n"
     ]
    }
   ],
   "source": [
    "from collections import Counter\n",
    "import pandas as pd\n",
    "\n",
    "input_test = \"\"\"32T3K 765\n",
    "T55J5 684\n",
    "KK677 28\n",
    "KTJJT 220\n",
    "QQQJA 483\n",
    "\"\"\"\n",
    "\n",
    "with open('data/day_7.txt') as txtfile:\n",
    "    input_day = txtfile.read()\n",
    "    \n",
    "PROD = 1\n",
    "input_data = input_day if PROD else input_test\n",
    "print(input_data[0:200])"
   ]
  },
  {
   "cell_type": "markdown",
   "id": "574bf5e2-5ee2-407c-af92-e709f66901a7",
   "metadata": {
    "tags": []
   },
   "source": [
    "# Part 1"
   ]
  },
  {
   "cell_type": "code",
   "execution_count": 31,
   "id": "7043a9ae-839a-4081-bd61-d72a4f409643",
   "metadata": {
    "scrolled": true,
    "tags": []
   },
   "outputs": [
    {
     "name": "stdout",
     "output_type": "stream",
     "text": [
      "6440\n"
     ]
    }
   ],
   "source": [
    "cards = \"AKQJT98765432\"\n",
    "card_translation = {ord(v): 100 - pos for pos, v in enumerate(cards)}\n",
    "def count_hand(x):\n",
    "    return tuple(sorted(Counter(x).values(), reverse=True))\n",
    "\n",
    "hands = pd.DataFrame({\n",
    "    \"hand\": [i.split()[0] for i in input_data.splitlines()],\n",
    "    \"bid\": [int(i.split()[1]) for i in input_data.splitlines()]\n",
    "    }\n",
    ")\n",
    "hands[\"counter\"] = hands[\"hand\"].apply(count_hand)\n",
    "hands[\"hand_translated\"] = hands['hand'].str.translate(card_translation)\n",
    "hands = hands.sort_values([\"counter\", \"hand_translated\"])\\\n",
    "    .assign(ranking=lambda x: range(1, len(x) + 1))\n",
    "solution = hands.eval('bid*ranking').sum()\n",
    "if not PROD:\n",
    "    assert solution == 6440\n",
    "print(solution)"
   ]
  },
  {
   "cell_type": "markdown",
   "id": "64400797-3282-4daf-bf42-45d005a57cf5",
   "metadata": {},
   "source": [
    "# Part 2"
   ]
  },
  {
   "cell_type": "code",
   "execution_count": 39,
   "id": "fbf63ec6-a1af-4b38-9e98-b453be517d11",
   "metadata": {},
   "outputs": [
    {
     "name": "stdout",
     "output_type": "stream",
     "text": [
      "251037509\n"
     ]
    }
   ],
   "source": [
    "cards_j = \"AKQT98765432J\"\n",
    "card_translation_j = {ord(v): 100 - pos for pos, v in enumerate(cards_j)}\n",
    "\n",
    "def count_hand_j(x):\n",
    "    values = sorted(Counter(x.replace(\"J\", \"\")).values(), reverse=True)\n",
    "    if values:\n",
    "        values[0] += x.count('J')\n",
    "        return tuple(values)\n",
    "\n",
    "    return tuple([5])\n",
    "\n",
    "hands = pd.DataFrame({\n",
    "    \"hand\": [i.split()[0] for i in input_data.splitlines()],\n",
    "    \"bid\": [int(i.split()[1]) for i in input_data.splitlines()]\n",
    "    }\n",
    ")\n",
    "\n",
    "hands[\"counter\"] = hands[\"hand\"].apply(count_hand_j)\n",
    "hands[\"hand_translated\"] = hands['hand'].str.translate(card_translation_j)\n",
    "hands = hands.sort_values([\"counter\", \"hand_translated\"])\\\n",
    "    .assign(ranking=lambda x: range(1, len(x) + 1))\n",
    "solution = hands.eval('bid*ranking').sum()\n",
    "if not PROD:\n",
    "    assert solution == 5905\n",
    "print(solution)"
   ]
  }
 ],
 "metadata": {
  "kernelspec": {
   "display_name": "Python 3 (ipykernel)",
   "language": "python",
   "name": "python3"
  },
  "language_info": {
   "codemirror_mode": {
    "name": "ipython",
    "version": 3
   },
   "file_extension": ".py",
   "mimetype": "text/x-python",
   "name": "python",
   "nbconvert_exporter": "python",
   "pygments_lexer": "ipython3",
   "version": "3.9.12"
  },
  "widgets": {
   "application/vnd.jupyter.widget-state+json": {
    "state": {},
    "version_major": 2,
    "version_minor": 0
   }
  }
 },
 "nbformat": 4,
 "nbformat_minor": 5
}
